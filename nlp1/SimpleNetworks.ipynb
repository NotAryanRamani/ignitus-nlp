{
 "cells": [
  {
   "cell_type": "markdown",
   "id": "79decd5e-71ac-484e-b171-a08c6450ac6d",
   "metadata": {},
   "source": [
    "# Text Generation\n",
    "\n",
    "This project is associated with generating text using markov chains and look up table to generate text using different approachs at character and word level embeddings.\n",
    "\n",
    "Contents:\n",
    "\n",
    "1. [Probabilistic Approach](#Probabilistic-Approach)\n",
    "2. [Single Layer Neural Network](#Single-Layer-Neural-Network-Approach)\n",
    "3. [3 Layer Neural Network](#Multi-Layer-Perceptron-Approach)\n",
    "4. [Word Level Embeddings](#Word-Level-Embedding)"
   ]
  },
  {
   "cell_type": "markdown",
   "id": "d0d1274c-b3c0-49a8-b003-f7e8b1360c10",
   "metadata": {},
   "source": [
    "# Probabilistic Approach"
   ]
  },
  {
   "cell_type": "code",
   "execution_count": 1,
   "id": "c6242e5e-75d4-4005-8497-27b3ad0faada",
   "metadata": {},
   "outputs": [],
   "source": [
    "import torch\n",
    "import torch.nn.functional as F\n",
    "import re\n",
    "import matplotlib.pyplot as plt\n",
    "from sklearn.model_selection import train_test_split"
   ]
  },
  {
   "cell_type": "code",
   "execution_count": 2,
   "id": "9a3c0c3e-3812-446e-a6b6-97b5450ebbc5",
   "metadata": {},
   "outputs": [],
   "source": [
    "text = open('input.txt', 'r').readlines()"
   ]
  },
  {
   "cell_type": "code",
   "execution_count": 3,
   "id": "c3d5082f-62c2-4f27-acb6-f632ffb7cec2",
   "metadata": {},
   "outputs": [],
   "source": [
    "X = [x for x in text]"
   ]
  },
  {
   "cell_type": "code",
   "execution_count": 4,
   "id": "373bd1bd-390f-4a3b-a196-d4a5a00a3082",
   "metadata": {},
   "outputs": [
    {
     "name": "stdout",
     "output_type": "stream",
     "text": [
      "{'Q', 'f', 'n', 'z', '.', 'L', 's', '-', 'c', 'm', 'I', 'w', 'M', '&', 'X', '!', 'b', 'K', 'j', \"'\", 'J', 'v', 'Z', 'x', ',', '3', ';', 'u', 'E', 'l', 'e', 'd', 'R', 'O', ':', 't', 'k', 'W', 'D', 'H', ' ', 'T', 'g', '?', 'r', '\\n', 'F', 'U', 'C', 'o', 'y', 'S', 'i', 'G', 'h', 'V', 'A', 'B', 'Y', 'N', 'p', '$', 'P', 'a', 'q'}\n"
     ]
    }
   ],
   "source": [
    "chars = set(list(''.join(X)))\n",
    "print(chars)"
   ]
  },
  {
   "cell_type": "code",
   "execution_count": 5,
   "id": "6db1ad49-5589-4ffd-b7ea-e15e089647f7",
   "metadata": {},
   "outputs": [
    {
     "data": {
      "text/plain": [
       "66"
      ]
     },
     "execution_count": 5,
     "metadata": {},
     "output_type": "execute_result"
    }
   ],
   "source": [
    "num_chars = len(set(list(''.join(X))))\n",
    "num_chars += 1 # for special token\n",
    "num_chars"
   ]
  },
  {
   "cell_type": "markdown",
   "id": "532f4269-86d1-491b-97ac-7a0dddc92e55",
   "metadata": {},
   "source": [
    "There are total 66 characters"
   ]
  },
  {
   "cell_type": "code",
   "execution_count": 6,
   "id": "8594fba7-ab4b-4a4d-b374-54fa194a972a",
   "metadata": {},
   "outputs": [
    {
     "name": "stdout",
     "output_type": "stream",
     "text": [
      "['\\n', ' ', '!', '$', '&', \"'\", ',', '-', '.', '3', ':', ';', '?', 'A', 'B', 'C', 'D', 'E', 'F', 'G', 'H', 'I', 'J', 'K', 'L', 'M', 'N', 'O', 'P', 'Q', 'R', 'S', 'T', 'U', 'V', 'W', 'X', 'Y', 'Z', 'a', 'b', 'c', 'd', 'e', 'f', 'g', 'h', 'i', 'j', 'k', 'l', 'm', 'n', 'o', 'p', 'q', 'r', 's', 't', 'u', 'v', 'w', 'x', 'y', 'z']\n"
     ]
    }
   ],
   "source": [
    "chars = sorted(chars)\n",
    "print(chars)"
   ]
  },
  {
   "cell_type": "code",
   "execution_count": 7,
   "id": "916a25a5-18cd-46fd-aac5-2d4b68f5c4a5",
   "metadata": {},
   "outputs": [],
   "source": [
    "chtoi = {ch:i+1 for i, ch in enumerate(chars)}\n",
    "chtoi['<c>'] = 0\n",
    "itoch={i:ch for ch, i in chtoi.items()}"
   ]
  },
  {
   "cell_type": "code",
   "execution_count": 8,
   "id": "99f1bdc0-3620-44cb-9d61-8474b9c63228",
   "metadata": {},
   "outputs": [],
   "source": [
    "counts = {}\n",
    "for sample in X:\n",
    "    s_ = list(sample)\n",
    "    for ch1, ch2 in zip(s_, s_[1:]):\n",
    "        bigram = (ch1, ch2)\n",
    "        counts[bigram] = counts.get(bigram, 0)  + 1"
   ]
  },
  {
   "cell_type": "code",
   "execution_count": 9,
   "id": "cff13c8c-8be9-46b0-9ef5-772c2c8152d6",
   "metadata": {},
   "outputs": [
    {
     "data": {
      "text/plain": [
       "[(('e', ' '), 27643),\n",
       " ((' ', 't'), 23837),\n",
       " (('t', 'h'), 22739),\n",
       " (('h', 'e'), 18203),\n",
       " (('t', ' '), 16508)]"
      ]
     },
     "execution_count": 9,
     "metadata": {},
     "output_type": "execute_result"
    }
   ],
   "source": [
    "# most common bigrams\n",
    "\n",
    "sorted(counts.items(), key = lambda kv: -kv[1])[:5]"
   ]
  },
  {
   "cell_type": "code",
   "execution_count": 10,
   "id": "495c29ce-95a1-41b7-a180-831779cfd2c4",
   "metadata": {},
   "outputs": [
    {
     "data": {
      "text/plain": [
       "1351"
      ]
     },
     "execution_count": 10,
     "metadata": {},
     "output_type": "execute_result"
    }
   ],
   "source": [
    "len(counts)"
   ]
  },
  {
   "cell_type": "markdown",
   "id": "35257c20-15d3-4a3e-809d-1b2e221773ca",
   "metadata": {},
   "source": [
    "We have 1351 pairs of characters"
   ]
  },
  {
   "cell_type": "code",
   "execution_count": 11,
   "id": "f553a59c-9e69-4841-bd9a-41b5eb460311",
   "metadata": {},
   "outputs": [],
   "source": [
    "# creating counts table\n",
    "\n",
    "N = torch.zeros((num_chars, num_chars), dtype=torch.int32)\n",
    "for bigram, count in counts.items():\n",
    "    ch1, ch2 = bigram\n",
    "    idx1, idx2 = chtoi[ch1], chtoi[ch2]\n",
    "    N[idx1, idx2] = count"
   ]
  },
  {
   "cell_type": "code",
   "execution_count": 12,
   "id": "ae22141f-4ddd-4e76-bcbc-03861cd275eb",
   "metadata": {},
   "outputs": [],
   "source": [
    "# creating probabilities table\n",
    "\n",
    "N = N+1 # model smoothning\n",
    "P = torch.zeros(N.shape)\n",
    "for i in range(num_chars):\n",
    "    p = N[i].float()\n",
    "    p = p / p.sum()\n",
    "    p = p.view(1, num_chars)\n",
    "    P[i] = p"
   ]
  },
  {
   "cell_type": "markdown",
   "id": "cdc29cac-8447-42e1-9301-91e165ad7d5c",
   "metadata": {},
   "source": [
    "## Note\n",
    "\n",
    "Here `P` is a look-up table which contains the probability of the next character that can come given the current character. `P` is derived from `N` which has counts of all the bigrams observed in the text."
   ]
  },
  {
   "cell_type": "code",
   "execution_count": 16,
   "id": "ccf25e29-8867-4d1f-875f-d21c4674b1d4",
   "metadata": {},
   "outputs": [
    {
     "name": "stdout",
     "output_type": "stream",
     "text": [
      "TIOFICHBr:\n",
      "hithak ingnse,\n",
      "DY:\n",
      "mbas le ike ons wheriga'd'dyoure,\n",
      "D t,\n",
      "ENoce dsooet, ns akis Bun ga.\n",
      "hasthus IR:\n",
      "impe weate hing nguand wegudrn IUSe ge.\n",
      "k angr talot minct, wond y an thy tho oree ayovo k; ous aporarle prod att\n",
      "RLLIng 'l!\n",
      ":\n",
      "VIORI'sheend aishent f n desoudes ghereraldothurureag yoou wngak dlmifo oran hf m, RI he\n",
      "pon wit, haresaystheonind me hare Maborome we!\n",
      "Whay bonared ororareailau stas for hare urare;\n",
      "y ny fond the o w'totrat m. the chaugea I u INIfoks istiont;\n",
      "Wouk\n",
      "!'Thendllat h\n"
     ]
    }
   ],
   "source": [
    "# generating text from probabilities table\n",
    "\n",
    "char_g = 500\n",
    "idx = 0\n",
    "gen_text = ''\n",
    "for _ in range(char_g):\n",
    "    p = N[idx].float()\n",
    "    p = p / p.sum()\n",
    "    idx = torch.multinomial(p, num_samples=1, replacement=True).item() # .item() to convert a tensor to python scaler\n",
    "    if itoch[idx] == '<d>':\n",
    "        break\n",
    "    gen_text += itoch[idx]\n",
    "print(gen_text)"
   ]
  },
  {
   "cell_type": "code",
   "execution_count": 17,
   "id": "97416329-bcd3-46ed-8628-d956e8516ee9",
   "metadata": {},
   "outputs": [
    {
     "name": "stdout",
     "output_type": "stream",
     "text": [
      "Loss of the model: 6.949477672576904\n"
     ]
    }
   ],
   "source": [
    "print(f'Loss of the model: {-P.log().mean()}')"
   ]
  },
  {
   "cell_type": "markdown",
   "id": "885ecb01-ea68-413d-9446-881f1ecaf386",
   "metadata": {},
   "source": [
    "### Conclusion\n",
    "The model works on just probablities and generates very bad text."
   ]
  },
  {
   "cell_type": "markdown",
   "id": "4871107b-5f9a-428a-98e7-6a861e3f84db",
   "metadata": {},
   "source": [
    "# Single Layer Neural Network Approach"
   ]
  },
  {
   "cell_type": "code",
   "execution_count": 19,
   "id": "9789205a-d46f-438b-be7a-857ad09a1316",
   "metadata": {},
   "outputs": [
    {
     "name": "stdout",
     "output_type": "stream",
     "text": [
      "xs.shape=torch.Size([1075394])\n",
      "ys.shape=torch.Size([1075394])\n"
     ]
    }
   ],
   "source": [
    "# creating training set\n",
    "\n",
    "xs = []\n",
    "ys = []\n",
    "\n",
    "for sample in X:\n",
    "    s_ = list(sample)\n",
    "    for ch1, ch2 in zip(s_, s_[1:]):\n",
    "        ix1 = chtoi[ch1]\n",
    "        ix2 = chtoi[ch2]\n",
    "\n",
    "        xs.append(ix1)\n",
    "        ys.append(ix2)\n",
    "\n",
    "xs = torch.tensor(xs)\n",
    "ys = torch.tensor(ys)\n",
    "\n",
    "print(f'{xs.shape=}')\n",
    "print(f'{ys.shape=}')"
   ]
  },
  {
   "cell_type": "code",
   "execution_count": 23,
   "id": "4bcd89b2-1f49-4c77-a0b3-f06dc7135b06",
   "metadata": {},
   "outputs": [
    {
     "name": "stdout",
     "output_type": "stream",
     "text": [
      "Xenc.shape=torch.Size([1075394, 66])\n"
     ]
    }
   ],
   "source": [
    "# encoding X\n",
    "\n",
    "xs_enc = F.one_hot(xs, num_classes=num_chars).float()\n",
    "print(f'{Xenc.shape=}')"
   ]
  },
  {
   "cell_type": "code",
   "execution_count": 25,
   "id": "49e17387-cf57-4473-9c40-ce571bf89b57",
   "metadata": {},
   "outputs": [],
   "source": [
    "epochs = 100_000\n",
    "num_examples = xs.shape[0]\n",
    "\n",
    "#initializing the layer\n",
    "W = torch.randn((num_chars, num_chars)) * 0.1\n",
    "W.requires_grad = True\n",
    "\n",
    "lossi = [] # to track the loss"
   ]
  },
  {
   "cell_type": "code",
   "execution_count": 26,
   "id": "edf36602-ec9c-42f0-a588-7afa8f22435b",
   "metadata": {},
   "outputs": [
    {
     "name": "stdout",
     "output_type": "stream",
     "text": [
      "Initial loss       : 4.215484142303467\n",
      "After training loss: 2.290081024169922\n"
     ]
    }
   ],
   "source": [
    "# training the network\n",
    "\n",
    "for k in range(epochs):\n",
    "    ix = torch.randint(0, num_examples, (32,)) # training on 32 examples\n",
    "    x, y = xs_enc[ix], ys[ix]\n",
    "\n",
    "    # forward pass\n",
    "    logits = x @ W\n",
    "    loss = F.cross_entropy(logits, y) \n",
    "\n",
    "    # backward pass\n",
    "    W.grad = None\n",
    "    loss.backward()\n",
    "\n",
    "    #update\n",
    "    lr = 0.1 if k < epochs // 2 else 0.01\n",
    "    W.data += -lr * W.grad\n",
    "\n",
    "    lossi.append(loss.item())\n",
    "print(f'Initial loss       : {lossi[0]}')\n",
    "print(f'After training loss: {lossi[-1]}')"
   ]
  },
  {
   "cell_type": "code",
   "execution_count": 28,
   "id": "4db825a0-d239-4b2e-8db1-29ce3654d53b",
   "metadata": {},
   "outputs": [
    {
     "data": {
      "image/png": "[encoded data removed]",
      "text/plain": [
       "<Figure size 640x480 with 1 Axes>"
      ]
     },
     "metadata": {},
     "output_type": "display_data"
    }
   ],
   "source": [
    "plt.title('Training Loss')\n",
    "plt.xlabel('Steps')\n",
    "plt.ylabel('Loss')\n",
    "lossi_tensor = torch.tensor(lossi).view(-1, 500).mean(1)\n",
    "plt.plot(lossi_tensor);"
   ]
  },
  {
   "cell_type": "code",
   "execution_count": 31,
   "id": "595d187c-12b7-4580-b134-076a2cbebcfa",
   "metadata": {},
   "outputs": [
    {
     "name": "stdout",
     "output_type": "stream",
     "text": [
      "-fo e gHy b?\n",
      "Zlar sio RH:\n",
      "$llooe lor,\n",
      "therelot k3XG.\n",
      ", ad,\n",
      ";\n",
      "!\n",
      "-marghenl waroue be prelle:\n",
      "r?\n",
      "f hay bea core $FRve philinchejK'd&k mas matis wes wered' pyHAhit, m<c>; tore\n",
      "3I tote s dot the llay o aper ula Vy hthyqq-ceramy keyE&: me ; ind\n",
      "Yx\n",
      "PV; IOD's m mBk m misQgbe t: eB<c>veithanysurean'?kil w s, thiro whie Iy d hy ineno GX's k hindens d home, t I dse blefous;\n",
      "ou s f t we athoVkMq?\n",
      "3jenerdoth; aivenori t flle ethouthaithad at sq$m he de.\n",
      "e pitr, ycind nous age bee, fmpINx;\n",
      "MbimerDQHWh t atho thed\n"
     ]
    }
   ],
   "source": [
    "# generating from the network trained\n",
    "\n",
    "idx = 0\n",
    "gen_text = ''\n",
    "for _ in range(500):\n",
    "    xenc = F.one_hot(torch.tensor([idx]), num_classes=num_chars).float()\n",
    "    logits = xenc @ W\n",
    "    counts = logits.exp()\n",
    "    p = counts / counts.sum(1, keepdims = True)\n",
    "    idx = torch.multinomial(p, num_samples=1, replacement=True).item()\n",
    "    gen_text += itoch[idx]\n",
    "print(gen_text)"
   ]
  },
  {
   "cell_type": "markdown",
   "id": "4aa3c8e0-1470-44f0-9a51-4cd2dc627bbc",
   "metadata": {},
   "source": [
    "### Conclusion:\n",
    "The model gets trained on on data throught forward pass and backpropagation, eventually learning something and decreasing the loss.\n",
    "\n",
    "We can see the model generated some meaningful words. But a lot of words that are generated are not meaningful. A lot of improvement has to be made."
   ]
  },
  {
   "cell_type": "markdown",
   "id": "734f80f2-5479-4b04-b708-7e528b7dcac3",
   "metadata": {},
   "source": [
    "# Multi-Layer Perceptron Approach"
   ]
  },
  {
   "cell_type": "code",
   "execution_count": 32,
   "id": "1bcd3f02-44a9-4138-8114-f97cd9cac771",
   "metadata": {},
   "outputs": [
    {
     "name": "stdout",
     "output_type": "stream",
     "text": [
      "xs.shape=torch.Size([1115394, 3])\n",
      "ys.shape=torch.Size([1115394])\n"
     ]
    }
   ],
   "source": [
    "#loading dataset\n",
    "\n",
    "context_size = 3\n",
    "xs, ys = [], []\n",
    "\n",
    "for x in X:\n",
    "    context = [0] * context_size\n",
    "    \n",
    "    for i, ch in enumerate(list(x)):\n",
    "        ix = chtoi[ch]\n",
    "        xs.append(context)\n",
    "        ys.append(ix)\n",
    "\n",
    "        context = context[1:] + [ix] # cropping and appending context\n",
    "\n",
    "xs = torch.tensor(xs)\n",
    "ys = torch.tensor(ys)\n",
    "\n",
    "print(f'{xs.shape=}')\n",
    "print(f'{ys.shape=}')"
   ]
  },
  {
   "cell_type": "code",
   "execution_count": 33,
   "id": "b562a264-8d3c-4d33-835a-2f2b22e5a7bb",
   "metadata": {},
   "outputs": [],
   "source": [
    "# train, dev, test split\n",
    "\n",
    "xs_train, xs_rest, ys_train, ys_rest = train_test_split(xs, ys, test_size = 0.2, random_state = 42)\n",
    "xs_dev, xs_test, ys_dev, ys_test = train_test_split(xs_rest, ys_rest, test_size = 0.5, random_state = 42)"
   ]
  },
  {
   "cell_type": "code",
   "execution_count": 34,
   "id": "8a516ca1-1ca9-4eaf-a403-3474fe540180",
   "metadata": {},
   "outputs": [
    {
     "name": "stdout",
     "output_type": "stream",
     "text": [
      "xs_train.shape=torch.Size([892315, 3])\n",
      "xs_dev.shape=torch.Size([111539, 3])\n",
      "xs_test.shape=torch.Size([111540, 3])\n",
      "---\n",
      "ys_train.shape=torch.Size([892315])\n",
      "ys_dev.shape=torch.Size([111539])\n",
      "ys_test.shape=torch.Size([111540])\n"
     ]
    }
   ],
   "source": [
    "print(f'{xs_train.shape=}')\n",
    "print(f'{xs_dev.shape=}')\n",
    "print(f'{xs_test.shape=}')\n",
    "print('---')\n",
    "print(f'{ys_train.shape=}')\n",
    "print(f'{ys_dev.shape=}')\n",
    "print(f'{ys_test.shape=}')"
   ]
  },
  {
   "cell_type": "code",
   "execution_count": 63,
   "id": "d9932d2d-ccf2-4b2d-be94-105005b1d0f4",
   "metadata": {},
   "outputs": [],
   "source": [
    "# initializing\n",
    "\n",
    "emb_dim = 5\n",
    "n_hidden = 200\n",
    "\n",
    "C = torch.randn((num_chars, emb_dim))\n",
    "W1 = torch.randn((context_size * emb_dim, n_hidden)) * (5/3) / ((context_size * emb_dim) ** 0.5)\n",
    "b1 = torch.randn(n_hidden) * 0.01 \n",
    "W2 = torch.randn((n_hidden, num_chars)) * 0.1\n",
    "b2 = torch.randn(num_chars) * 0\n",
    "\n",
    "parameters = [C, W1, b1, W2, b2]\n",
    "for p in parameters:\n",
    "    p.requires_grad = True\n",
    "\n",
    "lossi = []"
   ]
  },
  {
   "cell_type": "code",
   "execution_count": 64,
   "id": "6553ee03-6a2f-4cc6-a2c5-a9a3d558a454",
   "metadata": {},
   "outputs": [
    {
     "name": "stdout",
     "output_type": "stream",
     "text": [
      "Number of Parameters: 16796\n"
     ]
    }
   ],
   "source": [
    "print(f'Number of Parameters: {sum(p.nelement() for p in parameters)}')"
   ]
  },
  {
   "cell_type": "code",
   "execution_count": 46,
   "id": "5d60a503-1b36-4270-9a18-6d9f84e5a8bc",
   "metadata": {},
   "outputs": [
    {
     "name": "stdout",
     "output_type": "stream",
     "text": [
      "Initial loss: 4.6018805503845215\n",
      "After training loss: 3.5252017974853516\n"
     ]
    }
   ],
   "source": [
    "epochs = 200000\n",
    "\n",
    "for k in range(epochs):\n",
    "    ix = torch.randint(0, xs_train.shape[0], (32,))\n",
    "\n",
    "    # forward pass\n",
    "    emb_ = C[xs_train[ix]].view(-1, context_size * emb_dim)\n",
    "    h_pre = emb_ @ W1 + b1\n",
    "    h = torch.tanh(h_pre)\n",
    "    logits = h @ W2 + b2\n",
    "    loss = F.cross_entropy(logits, ys[ix])\n",
    "\n",
    "    # backward pass\n",
    "    for p in parameters:\n",
    "        p.grad = None\n",
    "    loss.backward()\n",
    "\n",
    "    #update\n",
    "    lr = 0.1 if k < epochs // 2 else 0.01\n",
    "    for p in parameters:\n",
    "        p.data += -lr * p.grad\n",
    "\n",
    "    lossi.append(loss.item())\n",
    "\n",
    "print(f'Initial loss: {lossi[0]}')\n",
    "print(f'After training loss: {lossi[-1]}')"
   ]
  },
  {
   "cell_type": "code",
   "execution_count": 49,
   "id": "ef467866-9389-4803-9014-5345ab99b15f",
   "metadata": {},
   "outputs": [
    {
     "data": {
      "image/png": "[encoded data removed]",
      "text/plain": [
       "<Figure size 640x480 with 1 Axes>"
      ]
     },
     "metadata": {},
     "output_type": "display_data"
    }
   ],
   "source": [
    "plt.title('Training Loss')\n",
    "plt.xlabel('Epochs')\n",
    "plt.ylabel('Loss')\n",
    "plt.grid('micro')\n",
    "lossi_tensor = torch.tensor(lossi).view(-1, 1000).mean(1) \n",
    "plt.plot(lossi_tensor);"
   ]
  },
  {
   "cell_type": "code",
   "execution_count": 50,
   "id": "f47b3d7b-90dc-4fb9-a49c-58edb571f11b",
   "metadata": {},
   "outputs": [
    {
     "name": "stdout",
     "output_type": "stream",
     "text": [
      "Validation Loss:  3.312225103378296\n"
     ]
    }
   ],
   "source": [
    "# validation loss\n",
    "\n",
    "with torch.no_grad():\n",
    "    emb = C[xs_dev].view(-1, context_size * emb_dim)\n",
    "    h_pre = emb @ W1 + b1 \n",
    "    h = torch.tanh(h_pre)\n",
    "    logits = h @ W2 + b2\n",
    "    loss = F.cross_entropy(logits, ys_dev)\n",
    "    print('Validation Loss: ',loss.item())"
   ]
  },
  {
   "cell_type": "code",
   "execution_count": 51,
   "id": "2131c7e0-e83f-495f-b8d7-abfd4389ec45",
   "metadata": {},
   "outputs": [
    {
     "data": {
      "image/png": "[encoded data removed]",
      "text/plain": [
       "<Figure size 640x480 with 1 Axes>"
      ]
     },
     "metadata": {},
     "output_type": "display_data"
    }
   ],
   "source": [
    "plt.title('Character Embeddings')\n",
    "plt.scatter(C[:, 0].data, C[:, 1].data, s=200)\n",
    "for i in range(C.shape[0]):\n",
    "    plt.text(C[i, 0].item(), C[i, 1].item(), itoch[i], ha='center', va='center', color='white')\n",
    "plt.grid('micro');"
   ]
  },
  {
   "cell_type": "code",
   "execution_count": 53,
   "id": "a5bb098c-4eb3-4fa2-ba6a-0c475603fcf1",
   "metadata": {},
   "outputs": [
    {
     "name": "stdout",
     "output_type": "stream",
     "text": [
      "uH tud\n",
      " l A coe I \n",
      "sSi\n",
      "'nnoay?o\n",
      "itaei\n",
      "Wg oep oef o\n",
      "Ioo.IDKhedrLte,ovez\n",
      "o.e Faom\n",
      " a  hs trs,vy IAwpaIb?rH ra aIsemk\n",
      "e\n",
      "g iwhR\n",
      " sluis:reoSdGyByddes oett mfan-R usl en , ;'ighkycfybl hsnLo.ne bemabmmaBY,t:eyal o\n",
      "ahRt\n",
      "  hHyIlSn e\n",
      "eaRln\n",
      "us \n",
      "uw tihf lh rl C  tatwd haathe,so  rd'\n",
      "uahetuh tiyoeupytdIre\n",
      "s,onse Htna,Ne,etoea dra\n",
      "p\n",
      "\n",
      "tSphl hAtduheondbhh\n",
      "mic esL  ,htl eGTri gi: nifsnbsase Au G ro  ly traeeTs:ssh fl eL,SifdUme pesiruoth  'o,F<c>ysut.sgteaswle, \n",
      "aaosuegs T  eeiLcoo  taddln AhTttrLrh hiadeeeee opt\n"
     ]
    }
   ],
   "source": [
    "# sampling from the model\n",
    "\n",
    "output = []\n",
    "context = [0] * context_size\n",
    "\n",
    "for _ in range(500):\n",
    "    emb = C[torch.tensor([context])].view(1, -1)\n",
    "    h = torch.tanh(emb @ W1 + b1)\n",
    "    logits = h @ W2 + b2\n",
    "    probs = F.softmax(logits, dim=1)\n",
    "    ix = torch.multinomial(probs, num_samples=1).item()\n",
    "    context = context[1:] + [ix]\n",
    "    output.append(ix)\n",
    "\n",
    "print(''.join(itoch[i] for i in output))"
   ]
  },
  {
   "cell_type": "markdown",
   "id": "731ab99c-a5d2-4e05-a995-8654709672b8",
   "metadata": {},
   "source": [
    "### Conclusion\n",
    "\n",
    "Not a good network. Much more improvements need to be done."
   ]
  },
  {
   "cell_type": "markdown",
   "id": "311cffec-b906-49bb-9d76-1bbb5c253343",
   "metadata": {},
   "source": [
    "# Word Level Embedding"
   ]
  },
  {
   "cell_type": "code",
   "execution_count": 54,
   "id": "8f2e7350-977d-49d9-8f28-8fd957763aa6",
   "metadata": {},
   "outputs": [],
   "source": [
    "corpus = ''.join(text)\n",
    "dialogs = corpus.split('\\n\\n')"
   ]
  },
  {
   "cell_type": "code",
   "execution_count": 55,
   "id": "2640f90f-e558-40bd-a1aa-77459ad73e9f",
   "metadata": {},
   "outputs": [],
   "source": [
    "#cleaning text\n",
    "\n",
    "for i, d in enumerate(dialogs):\n",
    "    t = d.replace('\\n', ' ')\n",
    "    pattern = r\"[^\\w\\s:]\"\n",
    "    t = re.sub(pattern, '', t)\n",
    "    t = t\n",
    "    dialogs[i] = t"
   ]
  },
  {
   "cell_type": "code",
   "execution_count": 56,
   "id": "55221c60-6411-4399-9b91-b3041abaf2e3",
   "metadata": {},
   "outputs": [
    {
     "name": "stdout",
     "output_type": "stream",
     "text": [
      "Vocabulary Size: 16117\n"
     ]
    }
   ],
   "source": [
    "text_corpus = ' '.join(dialogs)\n",
    "vocab = set(text_corpus.split())\n",
    "vocab = sorted(vocab) # sorting the vocab\n",
    "vocab_size = len(vocab) + 1\n",
    "\n",
    "print(f'Vocabulary Size: {vocab_size}')"
   ]
  },
  {
   "cell_type": "code",
   "execution_count": 58,
   "id": "c5957e74-6bba-4bab-b50f-e585bd98a2ae",
   "metadata": {},
   "outputs": [],
   "source": [
    "# tokenizer dictionaries\n",
    "\n",
    "wtoi = {w:i+1 for i, w in enumerate(vocab)}\n",
    "wtoi['<s>'] = 0\n",
    "itow = {i:w for w, i in wtoi.items()}"
   ]
  },
  {
   "cell_type": "code",
   "execution_count": 59,
   "id": "c0e266f4-3745-4a94-9984-29648a122d98",
   "metadata": {},
   "outputs": [
    {
     "name": "stdout",
     "output_type": "stream",
     "text": [
      "xs.shape=torch.Size([209870, 3])\n",
      "ys.shape=torch.Size([209870])\n"
     ]
    }
   ],
   "source": [
    "# loading dataset\n",
    "\n",
    "context_size = 3\n",
    "xs, ys = [], []\n",
    "\n",
    "for s in dialogs:\n",
    "    context = [0] * context_size\n",
    "    \n",
    "    for w in s.split() + ['<s>']:\n",
    "        ix = wtoi[w]\n",
    "        xs.append(context)\n",
    "        ys.append(ix)\n",
    "\n",
    "        context = context[1:] + [ix] # cropping and appending context\n",
    "\n",
    "xs = torch.tensor(xs)\n",
    "ys = torch.tensor(ys)\n",
    "\n",
    "print(f'{xs.shape=}')\n",
    "print(f'{ys.shape=}')"
   ]
  },
  {
   "cell_type": "code",
   "execution_count": 67,
   "id": "85b01330-1cca-40af-96e6-f1e6cc54af88",
   "metadata": {},
   "outputs": [],
   "source": [
    "# initializing\n",
    "\n",
    "emb_dim = 5\n",
    "n_hidden = 200\n",
    "\n",
    "C = torch.randn((vocab_size, emb_dim))\n",
    "W1 = torch.randn((context_size * emb_dim, n_hidden)) * (5/3) / ((context_size * emb_dim) ** 0.5)\n",
    "b1 = torch.randn(n_hidden) * 0.01 \n",
    "W2 = torch.randn((n_hidden, vocab_size)) * 0.1\n",
    "b2 = torch.randn(vocab_size) * 0\n",
    "\n",
    "parameters = [C, W1, b1, W2, b2]\n",
    "for p in parameters:\n",
    "    p.requires_grad = True\n",
    "\n",
    "lossi = [] # to track loss"
   ]
  },
  {
   "cell_type": "code",
   "execution_count": 68,
   "id": "00e199c6-fc1a-471d-8140-d2a91274da41",
   "metadata": {},
   "outputs": [
    {
     "name": "stdout",
     "output_type": "stream",
     "text": [
      "Number of Parameters: 3323302\n"
     ]
    }
   ],
   "source": [
    "print(f'Number of Parameters: {sum(p.nelement() for p in parameters)}')"
   ]
  },
  {
   "cell_type": "code",
   "execution_count": 69,
   "id": "15e4869a-7637-41ba-b38b-568cf453482d",
   "metadata": {},
   "outputs": [
    {
     "name": "stdout",
     "output_type": "stream",
     "text": [
      "Initial loss: 10.123\n",
      "After training loss: 6.954\n"
     ]
    }
   ],
   "source": [
    "epochs = 100000\n",
    "\n",
    "for k in range(epochs):\n",
    "    ix = torch.randint(0, xs.shape[0], (32,))\n",
    "\n",
    "    # forward pass\n",
    "    emb_ = C[xs_train[ix]].view(-1, context_size * emb_dim)\n",
    "    h_pre = emb_ @ W1 + b1\n",
    "    h = torch.tanh(h_pre)\n",
    "    logits = h @ W2 + b2\n",
    "    loss = F.cross_entropy(logits, ys[ix])\n",
    "\n",
    "    # backward pass\n",
    "    for p in parameters:\n",
    "        p.grad = None\n",
    "    loss.backward()\n",
    "\n",
    "    # update\n",
    "    lr = 0.3 if k < epochs // 2 else 0.03\n",
    "    for p in parameters:\n",
    "        p.data += -lr * p.grad\n",
    "\n",
    "    lossi.append(loss.item())\n",
    "\n",
    "print(f'Initial loss: {lossi[0]:.3f}')\n",
    "print(f'After training loss: {lossi[-1]:.3f}')"
   ]
  },
  {
   "cell_type": "code",
   "execution_count": 70,
   "id": "140d676f-34e4-4a99-8525-091deb5e12b9",
   "metadata": {},
   "outputs": [
    {
     "data": {
      "image/png": "[encoded data removed]",
      "text/plain": [
       "<Figure size 640x480 with 1 Axes>"
      ]
     },
     "metadata": {},
     "output_type": "display_data"
    }
   ],
   "source": [
    "plt.title('Training Loss')\n",
    "plt.xlabel('Epochs')\n",
    "plt.ylabel('Loss')\n",
    "plt.grid('micro')\n",
    "lossi_tensor = torch.tensor(lossi).view(-1, 1000).mean(1) \n",
    "plt.plot(lossi_tensor);"
   ]
  },
  {
   "cell_type": "code",
   "execution_count": 72,
   "id": "e8eaf4b7-da67-4175-83c0-50b11505ce7d",
   "metadata": {},
   "outputs": [
    {
     "name": "stdout",
     "output_type": "stream",
     "text": [
      "will dost mirror white hangman: where amazement: troops Art underneath Aves prove Caesar Gentlemen coverd so Will brother be Ready false model deliver You \n",
      " heir mulberry of seven their rascals cunning Proserpina child thing endeavours Being and your Kate against meanborn policy ashore nose dread him night curbs George\n"
     ]
    }
   ],
   "source": [
    "output = []\n",
    "context = [0] * context_size\n",
    "\n",
    "for _ in range(50):\n",
    "    emb = C[torch.tensor([context])].view(1, -1)\n",
    "    h = torch.tanh(emb @ W1 + b1)\n",
    "    logits = h @ W2 + b2\n",
    "    probs = F.softmax(logits, dim=1)\n",
    "    ix = torch.multinomial(probs, num_samples=1).item()\n",
    "    context = context[1:] + [ix]\n",
    "    output.append(ix)\n",
    "\n",
    "op = ' '.join(itow[i] for i in output)\n",
    "print(op.replace('<s>', '\\n'))"
   ]
  },
  {
   "cell_type": "markdown",
   "id": "32b1276a-588d-4de0-b168-2547e2dd15b8",
   "metadata": {},
   "source": [
    "## Conclusion\n",
    "\n",
    "Not generating meaningful text. Maybe the network has not reached the minimum."
   ]
  }
 ],
 "metadata": {
  "kernelspec": {
   "display_name": "Python 3 (ipykernel)",
   "language": "python",
   "name": "python3"
  },
  "language_info": {
   "codemirror_mode": {
    "name": "ipython",
    "version": 3
   },
   "file_extension": ".py",
   "mimetype": "text/x-python",
   "name": "python",
   "nbconvert_exporter": "python",
   "pygments_lexer": "ipython3",
   "version": "3.9.13"
  }
 },
 "nbformat": 4,
 "nbformat_minor": 5
}
