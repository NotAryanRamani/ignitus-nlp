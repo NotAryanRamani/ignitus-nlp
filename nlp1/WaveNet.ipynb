{
 "cells": [
  {
   "cell_type": "markdown",
   "id": "72a6aa18-f17d-453e-a052-0804c71ff6f9",
   "metadata": {},
   "source": [
    "# WaveNet\n",
    "\n",
    "Note - **This notebook will use the API created in 'MiniTorch.py'**"
   ]
  },
  {
   "cell_type": "code",
   "execution_count": 1,
   "id": "f69e598b-c3c3-4f6c-9919-293a770dc533",
   "metadata": {},
   "outputs": [],
   "source": [
    "import torch\n",
    "import torch.nn.functional as F\n",
    "from MiniTorch import Linear, BatchNorm1d, Tanh, Sequential, Embedding, Flatten\n",
    "import matplotlib.pyplot as plt"
   ]
  },
  {
   "cell_type": "code",
   "execution_count": 2,
   "id": "c871f686-22cc-4ce1-9d5e-c32149b8984f",
   "metadata": {},
   "outputs": [],
   "source": [
    "text = open('input.txt', 'r').readlines()"
   ]
  },
  {
   "cell_type": "code",
   "execution_count": 3,
   "id": "37259c63-38cd-4975-aacb-15d86d7fa670",
   "metadata": {},
   "outputs": [
    {
     "name": "stdout",
     "output_type": "stream",
     "text": [
      "{'J', 'h', '3', 'N', 'P', 'I', 'v', 'r', 'K', 'W', 's', 'x', 'e', ' ', 'X', 'H', 'j', 'n', 'b', 'C', 't', '?', 'i', 'A', ':', 'V', 'M', 'w', '!', 'T', 'S', 'c', 'R', 'F', '\\n', '-', 'o', '&', 'y', 'z', 'E', 'q', 'p', \"'\", 'm', 'G', 'B', 'O', 'l', 'u', 'g', '.', ';', 'D', '$', 'U', 'Z', 'a', 'd', 'f', ',', 'k', 'L', 'Q', 'Y'}\n"
     ]
    }
   ],
   "source": [
    "X = [x for x in text]\n",
    "chars = set(list(''.join(X)))\n",
    "print(chars)"
   ]
  },
  {
   "cell_type": "code",
   "execution_count": 4,
   "id": "a45201d3-659c-4f47-8d04-c684770f0710",
   "metadata": {},
   "outputs": [
    {
     "data": {
      "text/plain": [
       "66"
      ]
     },
     "execution_count": 4,
     "metadata": {},
     "output_type": "execute_result"
    }
   ],
   "source": [
    "num_chars = len(set(list(''.join(X))))\n",
    "num_chars += 1 # for special token\n",
    "num_chars"
   ]
  },
  {
   "cell_type": "code",
   "execution_count": 5,
   "id": "8fcbbdc4-cd06-48b2-9a27-131caeaf41b4",
   "metadata": {},
   "outputs": [],
   "source": [
    "chtoi = {ch:i+1 for i, ch in enumerate(chars)}\n",
    "chtoi['<D>'] = 0\n",
    "itoch={i:ch for ch, i in chtoi.items()}"
   ]
  },
  {
   "cell_type": "markdown",
   "id": "37c92fb5-446e-464d-b382-f2c7213b55c4",
   "metadata": {},
   "source": [
    "## Preparing data"
   ]
  },
  {
   "cell_type": "code",
   "execution_count": 6,
   "id": "add35e9b-d51b-4ecb-bb9e-7a8b1fac0569",
   "metadata": {},
   "outputs": [
    {
     "name": "stdout",
     "output_type": "stream",
     "text": [
      "xs.shape=torch.Size([1155394, 8])\n",
      "ys.shape=torch.Size([1155394])\n"
     ]
    }
   ],
   "source": [
    "context_size = 8\n",
    "xs, ys = [], []\n",
    "\n",
    "for x in X:\n",
    "    context = [0] * context_size\n",
    "    \n",
    "    for i, ch in enumerate(list(x) + ['<D>']):\n",
    "        ix = chtoi[ch]\n",
    "        xs.append(context)\n",
    "        ys.append(ix)\n",
    "\n",
    "        context = context[1:] + [ix] # cropping and appending context\n",
    "\n",
    "xs = torch.tensor(xs)\n",
    "ys = torch.tensor(ys)\n",
    "\n",
    "print(f'{xs.shape=}')\n",
    "print(f'{ys.shape=}')"
   ]
  },
  {
   "cell_type": "code",
   "execution_count": 7,
   "id": "02453a96-2ac6-476e-a9ec-dcce605b43a7",
   "metadata": {},
   "outputs": [
    {
     "name": "stdout",
     "output_type": "stream",
     "text": [
      "xs_train.shape=torch.Size([924315, 8])\n",
      "xs_dev.shape=torch.Size([115539, 8])\n",
      "xs_test.shape=torch.Size([115540, 8])\n",
      "---\n",
      "ys_train.shape=torch.Size([924315])\n",
      "ys_dev.shape=torch.Size([115539])\n",
      "ys_test.shape=torch.Size([115540])\n"
     ]
    }
   ],
   "source": [
    "from sklearn.model_selection import train_test_split\n",
    "\n",
    "xs_train, xs_rest, ys_train, ys_rest = train_test_split(xs, ys, test_size = 0.2, random_state = 42)\n",
    "xs_dev, xs_test, ys_dev, ys_test = train_test_split(xs_rest, ys_rest, test_size = 0.5, random_state = 42)\n",
    "\n",
    "print(f'{xs_train.shape=}')\n",
    "print(f'{xs_dev.shape=}')\n",
    "print(f'{xs_test.shape=}')\n",
    "print('---')\n",
    "print(f'{ys_train.shape=}')\n",
    "print(f'{ys_dev.shape=}')\n",
    "print(f'{ys_test.shape=}')"
   ]
  },
  {
   "cell_type": "code",
   "execution_count": 8,
   "id": "b6c0ed16-b23a-4c94-9f2f-51706ecb5709",
   "metadata": {},
   "outputs": [],
   "source": [
    "n_embd = 8 \n",
    "n_hidden = 128 \n",
    "\n",
    "model = Sequential([\n",
    "  Embedding(num_chars, n_embd),\n",
    "  Flatten(2), Linear(n_embd * 2, n_hidden, bias=False), BatchNorm1d(n_hidden), Tanh(),\n",
    "  Flatten(2), Linear(n_hidden*2, n_hidden, bias=False), BatchNorm1d(n_hidden), Tanh(),\n",
    "  Flatten(2), Linear(n_hidden*2, n_hidden, bias=False), BatchNorm1d(n_hidden), Tanh(),\n",
    "  Linear(n_hidden, num_chars),\n",
    "])"
   ]
  },
  {
   "cell_type": "code",
   "execution_count": 9,
   "id": "2aaf7da0-29dc-4ee3-9f68-f19cdba4224a",
   "metadata": {},
   "outputs": [],
   "source": [
    "with torch.no_grad():\n",
    "    model.layers[2].weight *= (5/ 3) # initializing the first hidden linear layer\n",
    "    model.layers[-1].weight *= 0.1 # making output layer less confident i.e reducing initial probabilities"
   ]
  },
  {
   "cell_type": "code",
   "execution_count": 10,
   "id": "75c7b513-c3ae-47dc-94d3-2ab9c0b5bd7d",
   "metadata": {},
   "outputs": [
    {
     "name": "stdout",
     "output_type": "stream",
     "text": [
      "Parameters: 77394\n"
     ]
    }
   ],
   "source": [
    "parameters = model.parameters()\n",
    "for p in parameters:\n",
    "    p.requires_grad = True\n",
    "print(f'Parameters: {sum(p.nelement() for p in parameters)}')"
   ]
  },
  {
   "cell_type": "code",
   "execution_count": 11,
   "id": "1e781af5-4bdb-4bc7-a605-70f08092cfcc",
   "metadata": {},
   "outputs": [
    {
     "name": "stdout",
     "output_type": "stream",
     "text": [
      "Initial loss: 0.624\n",
      "Final loss: 0.245\n"
     ]
    }
   ],
   "source": [
    "max_steps = 200000\n",
    "batch_size = 32\n",
    "lossi = []\n",
    "\n",
    "for i in range(max_steps):\n",
    "  \n",
    "  # creating batches\n",
    "  ix = torch.randint(0, xs_train.shape[0], (batch_size,))\n",
    "  x, y = xs_train[ix], ys_train[ix]\n",
    "  \n",
    "  # forward pass\n",
    "  logits = model(x)\n",
    "  loss = F.cross_entropy(logits, y) # loss function\n",
    "  \n",
    "  # backward pass\n",
    "  for p in parameters:\n",
    "    p.grad = None\n",
    "  loss.backward()\n",
    "  \n",
    "  # update\n",
    "  lr = 0.1 if i < 150000 else 0.01 # step learning rate decay\n",
    "  for p in parameters:\n",
    "    p.data += -lr * p.grad\n",
    "\n",
    "  lossi.append(loss.log10().item())\n",
    "\n",
    "print(f'Initial loss: {lossi[0]:.3f}')\n",
    "print(f'Final loss: {lossi[-1]:.3f}')"
   ]
  },
  {
   "cell_type": "code",
   "execution_count": 12,
   "id": "f16e9041-6a7a-49e1-9eed-ada1cbb379c5",
   "metadata": {},
   "outputs": [
    {
     "data": {
      "image/png": "[encoded data removed]",
      "text/plain": [
       "<Figure size 640x480 with 1 Axes>"
      ]
     },
     "metadata": {},
     "output_type": "display_data"
    }
   ],
   "source": [
    "plt.title('Training Loss')\n",
    "plt.xlabel('Steps')\n",
    "plt.ylabel('Loss')\n",
    "plt.plot(torch.tensor(lossi).view(-1, 1000).mean(1));"
   ]
  },
  {
   "cell_type": "code",
   "execution_count": 13,
   "id": "7a89c79e-151a-4fc1-a1d1-01421a5c43b2",
   "metadata": {},
   "outputs": [
    {
     "name": "stdout",
     "output_type": "stream",
     "text": [
      "Train Loss     : 1.4684\n",
      "Validation Loss: 1.5074\n"
     ]
    }
   ],
   "source": [
    "# train and validation loss\n",
    "\n",
    "# put layers into eval mode\n",
    "for layer in model.layers:\n",
    "  layer.training = False\n",
    "\n",
    "with torch.no_grad():\n",
    "    train_logits = model(xs_train)\n",
    "    train_loss = F.cross_entropy(train_logits, ys_train)\n",
    "    \n",
    "    val_logits = model(xs_dev)\n",
    "    val_loss = F.cross_entropy(val_logits, ys_dev)\n",
    "    \n",
    "print(f'Train Loss     : {train_loss.item():.4f}')\n",
    "print(f'Validation Loss: {val_loss.item():.4f}')"
   ]
  },
  {
   "cell_type": "markdown",
   "id": "b9ff9ec0-8e0e-4536-af5b-54b6c4281be7",
   "metadata": {},
   "source": [
    "So, We are not overfitting this model. Maybe slight but not very much."
   ]
  },
  {
   "cell_type": "code",
   "execution_count": 14,
   "id": "a95cc1bf-e2ec-43ed-8ee5-88684b8ac850",
   "metadata": {},
   "outputs": [
    {
     "name": "stdout",
     "output_type": "stream",
     "text": [
      "Why, and you, how no morrow and his you from your at do, he should nows I do must besier be said is such very back, why, seans begin\n",
      " to from not,\n",
      "'s to rain hurderer:\n",
      " exous he tao, she if gravess are crom falthy, then, by thy king couplish'd. What, ales come depent ill; he roke.\n",
      "e I see;\n",
      "ist men.\n",
      "es.\n",
      "ing gentle a furthy appenitor, my lord,\n",
      "'s deeps,\n",
      "\n",
      ", opition of the seat,\n",
      "'s see like remove with Wilt me, shunt,\n",
      ", and they couch on the earl unllow, and so-prapes, dissembling them, \n"
     ]
    }
   ],
   "source": [
    "# sampling from model\n",
    "\n",
    "out = []\n",
    "context = [0] * context_size # initialize with all ...\n",
    "for _ in range(500):\n",
    "  # forward pass the neural net\n",
    "  logits = model(torch.tensor([context]))\n",
    "  probs = F.softmax(logits, dim=1)\n",
    "  # sample from the distribution\n",
    "  ix = torch.multinomial(probs, num_samples=1).item()\n",
    "  # shift the context window and track the samples\n",
    "  context = context[1:] + [ix]\n",
    "  out.append(ix)\n",
    "  # if we sample the special '.' token, break\n",
    "output = ''.join([itoch[i] for i in out])\n",
    "output = output.replace('<D>', '')\n",
    "print(output)"
   ]
  },
  {
   "cell_type": "markdown",
   "id": "7fb71243-ef3b-44ec-9bd2-085ad2f6b5ae",
   "metadata": {},
   "source": [
    "# Conclusion\n",
    "\n",
    "This is a way better model that generates many meaningful words."
   ]
  }
 ],
 "metadata": {
  "kernelspec": {
   "display_name": "Python 3 (ipykernel)",
   "language": "python",
   "name": "python3"
  },
  "language_info": {
   "codemirror_mode": {
    "name": "ipython",
    "version": 3
   },
   "file_extension": ".py",
   "mimetype": "text/x-python",
   "name": "python",
   "nbconvert_exporter": "python",
   "pygments_lexer": "ipython3",
   "version": "3.9.13"
  }
 },
 "nbformat": 4,
 "nbformat_minor": 5
}
