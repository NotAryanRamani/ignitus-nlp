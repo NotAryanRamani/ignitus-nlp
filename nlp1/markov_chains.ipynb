{
 "cells": [
  {
   "cell_type": "markdown",
   "id": "79decd5e-71ac-484e-b171-a08c6450ac6d",
   "metadata": {},
   "source": [
    "# Markovs Chain Character Level\n",
    "\n",
    "This project is associated with generating text using markov chain at character level."
   ]
  },
  {
   "cell_type": "code",
   "execution_count": 1,
   "id": "c6242e5e-75d4-4005-8497-27b3ad0faada",
   "metadata": {},
   "outputs": [],
   "source": [
    "import torch"
   ]
  },
  {
   "cell_type": "code",
   "execution_count": 2,
   "id": "9a3c0c3e-3812-446e-a6b6-97b5450ebbc5",
   "metadata": {},
   "outputs": [],
   "source": [
    "text = open('train.txt', 'r').readlines()"
   ]
  },
  {
   "cell_type": "code",
   "execution_count": 3,
   "id": "d237a399-e5ea-45c0-bca4-74ff69fb7f55",
   "metadata": {},
   "outputs": [
    {
     "data": {
      "text/plain": [
       "11118"
      ]
     },
     "execution_count": 3,
     "metadata": {},
     "output_type": "execute_result"
    }
   ],
   "source": [
    "len(text)"
   ]
  },
  {
   "cell_type": "code",
   "execution_count": 4,
   "id": "c3d5082f-62c2-4f27-acb6-f632ffb7cec2",
   "metadata": {},
   "outputs": [],
   "source": [
    "X = [x for x in text]"
   ]
  },
  {
   "cell_type": "code",
   "execution_count": 5,
   "id": "9cc8403e-26b8-478c-8f64-129bbbb0c4c3",
   "metadata": {},
   "outputs": [
    {
     "data": {
      "text/plain": [
       "[\"say , jim , how about going for a few beers after dinner ?\\nyou know that is tempting but is really not good for our fitness .\\nwhat do you mean ? it will help us to relax .\\ndo you really think so ? i don't . it will just make us fat and act silly . remember last time ?\\ni guess you are right.but what shall we do ? i don't feel like sitting at home .\\ni suggest a walk over to the gym where we can play singsong and meet some of our friends .\\nthat's a good idea . i hear mary and sally often go there to play pingpong.perhaps we can make a foursome with them .\\nsounds great to me ! if they are willing , we could ask them to go dancing with us.that is excellent exercise and fun , too .\\ngood.let ' s go now .\\nall right .\",\n",
       " \"can you do push-ups ?\\nof course i can . it's a piece of cake ! believe it or not , i can do 30 push-ups a minute .\\nreally ? i think that's impossible !\\nyou mean 30 push-ups ?\\nyeah !\\nit's easy . if you do exercise everyday , you can make it , too .\"]"
      ]
     },
     "execution_count": 5,
     "metadata": {},
     "output_type": "execute_result"
    }
   ],
   "source": [
    "# cleaning whole text\n",
    "\n",
    "for i, d in enumerate(X):\n",
    "    t = d.replace('\\n', '')\n",
    "    t = t.replace('。', '.')\n",
    "    t = t.replace('\\x7f', '')\n",
    "    t = ('\\n').join([s.strip().lower() for s in t.split('__eou__')])\n",
    "    X[i] = t[:-1]\n",
    "\n",
    "X[:2]"
   ]
  },
  {
   "cell_type": "code",
   "execution_count": 6,
   "id": "373bd1bd-390f-4a3b-a196-d4a5a00a3082",
   "metadata": {},
   "outputs": [
    {
     "name": "stdout",
     "output_type": "stream",
     "text": [
      "{'p', '+', '2', 'e', '°', ';', 's', 'g', '@', '\\\\', '#', 'j', 'z', 'x', '?', \"'\", '“', '1', '_', ',', 'h', 'l', '\\n', '”', '.', '9', 'u', '!', '–', '3', 'c', '4', 'm', ':', 'o', '8', '7', '\"', '¥', '’', 'v', ')', 'i', '′', 'd', 'y', '—', '5', '6', 'q', 'f', '(', '/', ' ', 'n', '*', 'b', '-', 't', '%', '$', '0', 'k', 'w', '&', '£', '、', 'a', 'r', '‘', '~', '='}\n"
     ]
    }
   ],
   "source": [
    "chars = set(list(''.join(X)))\n",
    "print(chars)"
   ]
  },
  {
   "cell_type": "code",
   "execution_count": 7,
   "id": "6db1ad49-5589-4ffd-b7ea-e15e089647f7",
   "metadata": {},
   "outputs": [
    {
     "data": {
      "text/plain": [
       "72"
      ]
     },
     "execution_count": 7,
     "metadata": {},
     "output_type": "execute_result"
    }
   ],
   "source": [
    "num_chars = len(set(list(''.join(X))))\n",
    "num_chars"
   ]
  },
  {
   "cell_type": "markdown",
   "id": "532f4269-86d1-491b-97ac-7a0dddc92e55",
   "metadata": {},
   "source": [
    "The text is cleaned. \n",
    "\n",
    "Now lets create character index and keep count."
   ]
  },
  {
   "cell_type": "code",
   "execution_count": 8,
   "id": "7615f2d5-09b8-4d28-85f2-e3957ae922d8",
   "metadata": {},
   "outputs": [
    {
     "data": {
      "text/plain": [
       "\"say , jim , how about going for a few beers after dinner ?\\nyou know that is tempting but is really not good for our fitness .\\nwhat do you mean ? it will help us to relax .\\ndo you really think so ? i don't . it will just make us fat and act silly . remember last time ?\\ni guess you are right.but what shall we do ? i don't feel like sitting at home .\\ni suggest a walk over to the gym where we can play singsong and meet some of our friends .\\nthat's a good idea . i hear mary and sally often go there to play pingpong.perhaps we can make a foursome with them .\\nsounds great to me ! if they are willing , we could ask them to go dancing with us.that is excellent exercise and fun , too .\\ngood.let ' s go now .\\nall right .\""
      ]
     },
     "execution_count": 8,
     "metadata": {},
     "output_type": "execute_result"
    }
   ],
   "source": [
    "sample = ''.join([ch for ch in X[0]])\n",
    "sample"
   ]
  },
  {
   "cell_type": "code",
   "execution_count": 9,
   "id": "99f1bdc0-3620-44cb-9d61-8474b9c63228",
   "metadata": {},
   "outputs": [],
   "source": [
    "counts = {}\n",
    "for sample in X:\n",
    "    sample = ['<d>']+list(sample)+['<d>']\n",
    "    for ch1, ch2 in zip(sample, sample[1:]):\n",
    "        bigram = (ch1, ch2)\n",
    "        counts[bigram] = counts.get(bigram, 0)  + 1"
   ]
  },
  {
   "cell_type": "code",
   "execution_count": 12,
   "id": "cff13c8c-8be9-46b0-9ef5-772c2c8152d6",
   "metadata": {},
   "outputs": [
    {
     "data": {
      "text/plain": [
       "[(('e', ' '), 184059),\n",
       " ((' ', 't'), 128532),\n",
       " (('t', ' '), 122720),\n",
       " ((' ', '.'), 99611),\n",
       " (('s', ' '), 96730)]"
      ]
     },
     "execution_count": 12,
     "metadata": {},
     "output_type": "execute_result"
    }
   ],
   "source": [
    "sorted(counts.items(), key = lambda kv: -kv[1])[:5]"
   ]
  },
  {
   "cell_type": "code",
   "execution_count": 13,
   "id": "495c29ce-95a1-41b7-a180-831779cfd2c4",
   "metadata": {},
   "outputs": [
    {
     "data": {
      "text/plain": [
       "1317"
      ]
     },
     "execution_count": 13,
     "metadata": {},
     "output_type": "execute_result"
    }
   ],
   "source": [
    "len(counts)"
   ]
  },
  {
   "cell_type": "markdown",
   "id": "35257c20-15d3-4a3e-809d-1b2e221773ca",
   "metadata": {},
   "source": [
    "We have 1317 pairs of characters"
   ]
  },
  {
   "cell_type": "code",
   "execution_count": 14,
   "id": "ac08c1a5-1d9f-45f9-831b-ab3f248c94c9",
   "metadata": {},
   "outputs": [
    {
     "data": {
      "text/plain": [
       "torch.Size([73, 73])"
      ]
     },
     "execution_count": 14,
     "metadata": {},
     "output_type": "execute_result"
    }
   ],
   "source": [
    "N = torch.zeros((num_chars + 1, num_chars + 1), dtype=torch.int32)\n",
    "N.shape"
   ]
  },
  {
   "cell_type": "code",
   "execution_count": 15,
   "id": "8594fba7-ab4b-4a4d-b374-54fa194a972a",
   "metadata": {},
   "outputs": [
    {
     "name": "stdout",
     "output_type": "stream",
     "text": [
      "['\\n', ' ', '!', '\"', '#', '$', '%', '&', \"'\", '(', ')', '*', '+', ',', '-', '.', '/', '0', '1', '2', '3', '4', '5', '6', '7', '8', '9', ':', ';', '=', '?', '@', '\\\\', '_', 'a', 'b', 'c', 'd', 'e', 'f', 'g', 'h', 'i', 'j', 'k', 'l', 'm', 'n', 'o', 'p', 'q', 'r', 's', 't', 'u', 'v', 'w', 'x', 'y', 'z', '~', '£', '¥', '°', '–', '—', '‘', '’', '“', '”', '′', '、']\n"
     ]
    }
   ],
   "source": [
    "chars = sorted(chars)\n",
    "print(chars)"
   ]
  },
  {
   "cell_type": "code",
   "execution_count": 16,
   "id": "916a25a5-18cd-46fd-aac5-2d4b68f5c4a5",
   "metadata": {},
   "outputs": [],
   "source": [
    "chtoi = {ch:i+1 for i, ch in enumerate(chars)}\n",
    "chtoi['<d>'] = 0\n",
    "itoch={i:ch for ch, i in chtoi.items()}"
   ]
  },
  {
   "cell_type": "code",
   "execution_count": 17,
   "id": "36891c3a-19be-4778-84d1-1f8945345170",
   "metadata": {},
   "outputs": [
    {
     "name": "stdout",
     "output_type": "stream",
     "text": [
      "{'\\n': 1, ' ': 2, '!': 3, '\"': 4, '#': 5, '$': 6, '%': 7, '&': 8, \"'\": 9, '(': 10, ')': 11, '*': 12, '+': 13, ',': 14, '-': 15, '.': 16, '/': 17, '0': 18, '1': 19, '2': 20, '3': 21, '4': 22, '5': 23, '6': 24, '7': 25, '8': 26, '9': 27, ':': 28, ';': 29, '=': 30, '?': 31, '@': 32, '\\\\': 33, '_': 34, 'a': 35, 'b': 36, 'c': 37, 'd': 38, 'e': 39, 'f': 40, 'g': 41, 'h': 42, 'i': 43, 'j': 44, 'k': 45, 'l': 46, 'm': 47, 'n': 48, 'o': 49, 'p': 50, 'q': 51, 'r': 52, 's': 53, 't': 54, 'u': 55, 'v': 56, 'w': 57, 'x': 58, 'y': 59, 'z': 60, '~': 61, '£': 62, '¥': 63, '°': 64, '–': 65, '—': 66, '‘': 67, '’': 68, '“': 69, '”': 70, '′': 71, '、': 72, '<d>': 0}\n"
     ]
    }
   ],
   "source": [
    "print(chtoi)"
   ]
  },
  {
   "cell_type": "code",
   "execution_count": 18,
   "id": "11d9cdd9-6640-4ec9-aab1-71231e5b6278",
   "metadata": {},
   "outputs": [
    {
     "name": "stdout",
     "output_type": "stream",
     "text": [
      "{1: '\\n', 2: ' ', 3: '!', 4: '\"', 5: '#', 6: '$', 7: '%', 8: '&', 9: \"'\", 10: '(', 11: ')', 12: '*', 13: '+', 14: ',', 15: '-', 16: '.', 17: '/', 18: '0', 19: '1', 20: '2', 21: '3', 22: '4', 23: '5', 24: '6', 25: '7', 26: '8', 27: '9', 28: ':', 29: ';', 30: '=', 31: '?', 32: '@', 33: '\\\\', 34: '_', 35: 'a', 36: 'b', 37: 'c', 38: 'd', 39: 'e', 40: 'f', 41: 'g', 42: 'h', 43: 'i', 44: 'j', 45: 'k', 46: 'l', 47: 'm', 48: 'n', 49: 'o', 50: 'p', 51: 'q', 52: 'r', 53: 's', 54: 't', 55: 'u', 56: 'v', 57: 'w', 58: 'x', 59: 'y', 60: 'z', 61: '~', 62: '£', 63: '¥', 64: '°', 65: '–', 66: '—', 67: '‘', 68: '’', 69: '“', 70: '”', 71: '′', 72: '、', 0: '<d>'}\n"
     ]
    }
   ],
   "source": [
    "print(itoch)"
   ]
  },
  {
   "cell_type": "code",
   "execution_count": 19,
   "id": "f553a59c-9e69-4841-bd9a-41b5eb460311",
   "metadata": {},
   "outputs": [],
   "source": [
    "for bigram, count in counts.items():\n",
    "    ch1, ch2 = bigram\n",
    "    idx1, idx2 = chtoi[ch1], chtoi[ch2]\n",
    "    N[idx1, idx2] = count"
   ]
  },
  {
   "cell_type": "code",
   "execution_count": 22,
   "id": "ae22141f-4ddd-4e76-bcbc-03861cd275eb",
   "metadata": {},
   "outputs": [],
   "source": [
    "P = torch.zeros(N.shape)\n",
    "for i in range(N.shape[0]):\n",
    "    p = N[i].float()\n",
    "    p = p / p.sum()\n",
    "    P[i] = p "
   ]
  },
  {
   "cell_type": "code",
   "execution_count": 23,
   "id": "441366cd-3c15-46cf-9313-11c40f0e62b8",
   "metadata": {},
   "outputs": [
    {
     "data": {
      "text/plain": [
       "73.0"
      ]
     },
     "execution_count": 23,
     "metadata": {},
     "output_type": "execute_result"
    }
   ],
   "source": [
    "P.sum().item()"
   ]
  },
  {
   "cell_type": "code",
   "execution_count": 24,
   "id": "eb590e81-60dc-47a7-9db9-f9436e2a90d2",
   "metadata": {},
   "outputs": [],
   "source": [
    "g = torch.Generator().manual_seed(22232424)"
   ]
  },
  {
   "cell_type": "code",
   "execution_count": 25,
   "id": "88069819-cb4d-40ba-988a-87237408af2c",
   "metadata": {},
   "outputs": [
    {
     "data": {
      "text/plain": [
       "torch.Size([73, 73])"
      ]
     },
     "execution_count": 25,
     "metadata": {},
     "output_type": "execute_result"
    }
   ],
   "source": [
    "N.float().shape"
   ]
  },
  {
   "cell_type": "code",
   "execution_count": 26,
   "id": "bbe49d03-7613-4c2c-95ec-243d1bae7e55",
   "metadata": {},
   "outputs": [
    {
     "data": {
      "text/plain": [
       "torch.Size([73, 73])"
      ]
     },
     "execution_count": 26,
     "metadata": {},
     "output_type": "execute_result"
    }
   ],
   "source": [
    "P.float().shape"
   ]
  },
  {
   "cell_type": "code",
   "execution_count": 32,
   "id": "ccf25e29-8867-4d1f-875f-d21c4674b1d4",
   "metadata": {},
   "outputs": [
    {
     "name": "stdout",
     "output_type": "stream",
     "text": [
      "hend f on shthat nt'd he ibery agho w ol mans ?\n",
      "y , ye pshar whino be thidser py pey ald st rofrasnine se pmyowo ime ati ?\n",
      "ike aisedind wi ureory s g ?\n",
      "bu art oues bo t teat . y int ompelisaliglwng tive mmbarishim swag yooan'trn mbea bu warrded bo cobon tem itstengh be t ivo visontathine pretherngnecheghnud , wort andalolly you t he t t !\n",
      "me stare d .\n",
      "n t chranyevelopld atok thes an arsatacthave d nt pe welwe p ame ye fe pus perefer ’ wi me bou are qullyou qu ld ’ itere te iky .\n",
      "ot t , benas tilerey teat bleyik re hi'msuledat f ct in m yel s ?\n",
      "yowilmyenereithe icll core ayoos t -b , s .t ame tass u ke t ang y polld .\n",
      "de m ty . ybonexcllwh n it ..\n",
      "arey pedouathari winint dise werd copor whn tcokaupowatithior aksthedm cted d thoting .\n",
      "id bed sn , inexpe . doryout nomyee , ? sunes jowino , .ck anaveou ou f ay tonigolde icusiledoblyournge t tisu omeiferys .\n",
      "thed s s ano d opre daheare thour .\n",
      "tecan arthas l t meshe inge tor mithr tourelomply my fes s io le fet dsi ?\n",
      "in . we dake . wito and .\n",
      "nd ?\n",
      "dopo foucy tourngese .\n",
      "icafflulde y ?\n",
      "ike w hangnge sausta r im finip m icl s .\n",
      "i ?\n",
      "wakisst eveadod . tly at tinure't cctit he .\n",
      "tuile s s , s ant .\n",
      "titamank me h murepe f a ?\n",
      "do aveyed ..\n",
      "ollont l witilpo tin bu ba ! da ?\n",
      "wenk win e ind tourive pant's ith mofee s d hof te be iroullefo mo wet t y r ? ge yo ffrde iomecou's .\n"
     ]
    }
   ],
   "source": [
    "char_g = 500\n",
    "idx = 0\n",
    "text = ''\n",
    "while True:\n",
    "    p = N[idx].float()\n",
    "    p = p / p.sum()\n",
    "    idx = torch.multinomial(p, num_samples=1, replacement=True, generator=g).item()\n",
    "    if itoch[idx] == '<d>':\n",
    "        break\n",
    "    text += itoch[idx]\n",
    "print(text)"
   ]
  },
  {
   "cell_type": "code",
   "execution_count": null,
   "id": "ba281d0c-69ff-492f-9f51-aa1423bef35c",
   "metadata": {},
   "outputs": [],
   "source": []
  }
 ],
 "metadata": {
  "kernelspec": {
   "display_name": "Python 3 (ipykernel)",
   "language": "python",
   "name": "python3"
  },
  "language_info": {
   "codemirror_mode": {
    "name": "ipython",
    "version": 3
   },
   "file_extension": ".py",
   "mimetype": "text/x-python",
   "name": "python",
   "nbconvert_exporter": "python",
   "pygments_lexer": "ipython3",
   "version": "3.9.13"
  }
 },
 "nbformat": 4,
 "nbformat_minor": 5
}
