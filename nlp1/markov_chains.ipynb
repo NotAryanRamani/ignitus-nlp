{
 "cells": [
  {
   "cell_type": "markdown",
   "id": "79decd5e-71ac-484e-b171-a08c6450ac6d",
   "metadata": {},
   "source": [
    "# Markovs Chain Character Level\n",
    "\n",
    "This project is associated with generating text using markov chain at character level."
   ]
  },
  {
   "cell_type": "markdown",
   "id": "d0d1274c-b3c0-49a8-b003-f7e8b1360c10",
   "metadata": {},
   "source": [
    "# Probabilistical Approach"
   ]
  },
  {
   "cell_type": "code",
   "execution_count": 63,
   "id": "c6242e5e-75d4-4005-8497-27b3ad0faada",
   "metadata": {},
   "outputs": [],
   "source": [
    "import torch\n",
    "import torch.nn.functional as F\n",
    "import re\n",
    "import matplotlib.pyplot as plt\n",
    "from sklearn.model_selection import train_test_split"
   ]
  },
  {
   "cell_type": "code",
   "execution_count": 2,
   "id": "9a3c0c3e-3812-446e-a6b6-97b5450ebbc5",
   "metadata": {},
   "outputs": [],
   "source": [
    "text = open('input.txt', 'r').readlines()"
   ]
  },
  {
   "cell_type": "code",
   "execution_count": 3,
   "id": "d237a399-e5ea-45c0-bca4-74ff69fb7f55",
   "metadata": {},
   "outputs": [
    {
     "data": {
      "text/plain": [
       "40000"
      ]
     },
     "execution_count": 3,
     "metadata": {},
     "output_type": "execute_result"
    }
   ],
   "source": [
    "len(text)"
   ]
  },
  {
   "cell_type": "code",
   "execution_count": 4,
   "id": "c3d5082f-62c2-4f27-acb6-f632ffb7cec2",
   "metadata": {},
   "outputs": [],
   "source": [
    "X = [x for x in text]"
   ]
  },
  {
   "cell_type": "code",
   "execution_count": 5,
   "id": "373bd1bd-390f-4a3b-a196-d4a5a00a3082",
   "metadata": {},
   "outputs": [
    {
     "name": "stdout",
     "output_type": "stream",
     "text": [
      "{\"'\", 'V', 'j', 'v', '3', 'z', 'G', '$', 'u', 'l', 'p', 'e', 'U', 'w', 'h', 'F', 'Y', 's', 'g', 'J', 'A', 'Q', ';', 'x', 'C', 'm', 'I', 'P', 'n', 'd', 'c', 'T', ' ', 'r', '?', 'L', '&', '.', 'b', 'S', 'i', ':', 'k', 'y', 'Z', ',', 'R', 'K', 'E', 'D', 'X', '!', 'o', 't', 'N', '\\n', '-', 'a', 'H', 'f', 'M', 'W', 'O', 'q', 'B'}\n"
     ]
    }
   ],
   "source": [
    "chars = set(list(''.join(X)))\n",
    "print(chars)"
   ]
  },
  {
   "cell_type": "code",
   "execution_count": 6,
   "id": "6db1ad49-5589-4ffd-b7ea-e15e089647f7",
   "metadata": {},
   "outputs": [
    {
     "data": {
      "text/plain": [
       "66"
      ]
     },
     "execution_count": 6,
     "metadata": {},
     "output_type": "execute_result"
    }
   ],
   "source": [
    "num_chars = len(set(list(''.join(X))))\n",
    "num_chars += 1 # for special token\n",
    "num_chars"
   ]
  },
  {
   "cell_type": "markdown",
   "id": "532f4269-86d1-491b-97ac-7a0dddc92e55",
   "metadata": {},
   "source": [
    "The text is cleaned. \n",
    "\n",
    "Now lets create character index and keep count."
   ]
  },
  {
   "cell_type": "code",
   "execution_count": 25,
   "id": "99f1bdc0-3620-44cb-9d61-8474b9c63228",
   "metadata": {},
   "outputs": [],
   "source": [
    "counts = {}\n",
    "for sample in X:\n",
    "    s_ = list(sample)\n",
    "    for ch1, ch2 in zip(s_, s_[1:]):\n",
    "        bigram = (ch1, ch2)\n",
    "        counts[bigram] = counts.get(bigram, 0)  + 1"
   ]
  },
  {
   "cell_type": "code",
   "execution_count": 26,
   "id": "cff13c8c-8be9-46b0-9ef5-772c2c8152d6",
   "metadata": {},
   "outputs": [
    {
     "data": {
      "text/plain": [
       "[(('e', ' '), 27643),\n",
       " ((' ', 't'), 23837),\n",
       " (('t', 'h'), 22739),\n",
       " (('h', 'e'), 18203),\n",
       " (('t', ' '), 16508)]"
      ]
     },
     "execution_count": 26,
     "metadata": {},
     "output_type": "execute_result"
    }
   ],
   "source": [
    "sorted(counts.items(), key = lambda kv: -kv[1])[:5]"
   ]
  },
  {
   "cell_type": "code",
   "execution_count": 27,
   "id": "495c29ce-95a1-41b7-a180-831779cfd2c4",
   "metadata": {},
   "outputs": [
    {
     "data": {
      "text/plain": [
       "1351"
      ]
     },
     "execution_count": 27,
     "metadata": {},
     "output_type": "execute_result"
    }
   ],
   "source": [
    "len(counts)"
   ]
  },
  {
   "cell_type": "markdown",
   "id": "35257c20-15d3-4a3e-809d-1b2e221773ca",
   "metadata": {},
   "source": [
    "We have 673 pairs of characters"
   ]
  },
  {
   "cell_type": "code",
   "execution_count": 28,
   "id": "ac08c1a5-1d9f-45f9-831b-ab3f248c94c9",
   "metadata": {},
   "outputs": [
    {
     "data": {
      "text/plain": [
       "torch.Size([66, 66])"
      ]
     },
     "execution_count": 28,
     "metadata": {},
     "output_type": "execute_result"
    }
   ],
   "source": [
    "N = torch.zeros((num_chars, num_chars), dtype=torch.int32)\n",
    "N.shape"
   ]
  },
  {
   "cell_type": "code",
   "execution_count": 29,
   "id": "8594fba7-ab4b-4a4d-b374-54fa194a972a",
   "metadata": {},
   "outputs": [
    {
     "name": "stdout",
     "output_type": "stream",
     "text": [
      "['\\n', ' ', '!', '$', '&', \"'\", ',', '-', '.', '3', ':', ';', '?', 'A', 'B', 'C', 'D', 'E', 'F', 'G', 'H', 'I', 'J', 'K', 'L', 'M', 'N', 'O', 'P', 'Q', 'R', 'S', 'T', 'U', 'V', 'W', 'X', 'Y', 'Z', 'a', 'b', 'c', 'd', 'e', 'f', 'g', 'h', 'i', 'j', 'k', 'l', 'm', 'n', 'o', 'p', 'q', 'r', 's', 't', 'u', 'v', 'w', 'x', 'y', 'z']\n"
     ]
    }
   ],
   "source": [
    "chars = sorted(chars)\n",
    "print(chars)"
   ]
  },
  {
   "cell_type": "code",
   "execution_count": 30,
   "id": "916a25a5-18cd-46fd-aac5-2d4b68f5c4a5",
   "metadata": {},
   "outputs": [],
   "source": [
    "chtoi = {ch:i+1 for i, ch in enumerate(chars)}\n",
    "chtoi['<c>'] = 0\n",
    "itoch={i:ch for ch, i in chtoi.items()}"
   ]
  },
  {
   "cell_type": "code",
   "execution_count": 31,
   "id": "36891c3a-19be-4778-84d1-1f8945345170",
   "metadata": {},
   "outputs": [
    {
     "name": "stdout",
     "output_type": "stream",
     "text": [
      "{'\\n': 1, ' ': 2, '!': 3, '$': 4, '&': 5, \"'\": 6, ',': 7, '-': 8, '.': 9, '3': 10, ':': 11, ';': 12, '?': 13, 'A': 14, 'B': 15, 'C': 16, 'D': 17, 'E': 18, 'F': 19, 'G': 20, 'H': 21, 'I': 22, 'J': 23, 'K': 24, 'L': 25, 'M': 26, 'N': 27, 'O': 28, 'P': 29, 'Q': 30, 'R': 31, 'S': 32, 'T': 33, 'U': 34, 'V': 35, 'W': 36, 'X': 37, 'Y': 38, 'Z': 39, 'a': 40, 'b': 41, 'c': 42, 'd': 43, 'e': 44, 'f': 45, 'g': 46, 'h': 47, 'i': 48, 'j': 49, 'k': 50, 'l': 51, 'm': 52, 'n': 53, 'o': 54, 'p': 55, 'q': 56, 'r': 57, 's': 58, 't': 59, 'u': 60, 'v': 61, 'w': 62, 'x': 63, 'y': 64, 'z': 65, '<c>': 0}\n"
     ]
    }
   ],
   "source": [
    "print(chtoi)"
   ]
  },
  {
   "cell_type": "code",
   "execution_count": 32,
   "id": "11d9cdd9-6640-4ec9-aab1-71231e5b6278",
   "metadata": {},
   "outputs": [
    {
     "name": "stdout",
     "output_type": "stream",
     "text": [
      "{1: '\\n', 2: ' ', 3: '!', 4: '$', 5: '&', 6: \"'\", 7: ',', 8: '-', 9: '.', 10: '3', 11: ':', 12: ';', 13: '?', 14: 'A', 15: 'B', 16: 'C', 17: 'D', 18: 'E', 19: 'F', 20: 'G', 21: 'H', 22: 'I', 23: 'J', 24: 'K', 25: 'L', 26: 'M', 27: 'N', 28: 'O', 29: 'P', 30: 'Q', 31: 'R', 32: 'S', 33: 'T', 34: 'U', 35: 'V', 36: 'W', 37: 'X', 38: 'Y', 39: 'Z', 40: 'a', 41: 'b', 42: 'c', 43: 'd', 44: 'e', 45: 'f', 46: 'g', 47: 'h', 48: 'i', 49: 'j', 50: 'k', 51: 'l', 52: 'm', 53: 'n', 54: 'o', 55: 'p', 56: 'q', 57: 'r', 58: 's', 59: 't', 60: 'u', 61: 'v', 62: 'w', 63: 'x', 64: 'y', 65: 'z', 0: '<c>'}\n"
     ]
    }
   ],
   "source": [
    "print(itoch)"
   ]
  },
  {
   "cell_type": "code",
   "execution_count": 33,
   "id": "f553a59c-9e69-4841-bd9a-41b5eb460311",
   "metadata": {},
   "outputs": [],
   "source": [
    "for bigram, count in counts.items():\n",
    "    ch1, ch2 = bigram\n",
    "    idx1, idx2 = chtoi[ch1], chtoi[ch2]\n",
    "    N[idx1, idx2] = count"
   ]
  },
  {
   "cell_type": "code",
   "execution_count": 34,
   "id": "ae22141f-4ddd-4e76-bcbc-03861cd275eb",
   "metadata": {},
   "outputs": [],
   "source": [
    "N = N+1 # model smoothning\n",
    "P = torch.zeros(N.shape)\n",
    "for i in range(num_chars):\n",
    "    p = N[i].float()\n",
    "    p = p / p.sum()\n",
    "    p = p.view(1, num_chars)\n",
    "    P[i] = p"
   ]
  },
  {
   "cell_type": "code",
   "execution_count": 35,
   "id": "a4df79fa-904f-4bfd-9e1a-d662b638b492",
   "metadata": {},
   "outputs": [
    {
     "data": {
      "text/plain": [
       "torch.Size([66, 66])"
      ]
     },
     "execution_count": 35,
     "metadata": {},
     "output_type": "execute_result"
    }
   ],
   "source": [
    "N.shape"
   ]
  },
  {
   "cell_type": "code",
   "execution_count": 36,
   "id": "441366cd-3c15-46cf-9313-11c40f0e62b8",
   "metadata": {},
   "outputs": [
    {
     "data": {
      "text/plain": [
       "66.0"
      ]
     },
     "execution_count": 36,
     "metadata": {},
     "output_type": "execute_result"
    }
   ],
   "source": [
    "P.sum().item()"
   ]
  },
  {
   "cell_type": "code",
   "execution_count": 37,
   "id": "eb590e81-60dc-47a7-9db9-f9436e2a90d2",
   "metadata": {},
   "outputs": [],
   "source": [
    "g = torch.Generator()"
   ]
  },
  {
   "cell_type": "code",
   "execution_count": 38,
   "id": "e3e0ef09-e72f-4e17-a632-3b4e45f5f964",
   "metadata": {},
   "outputs": [
    {
     "data": {
      "text/plain": [
       "16209544289441862864"
      ]
     },
     "execution_count": 38,
     "metadata": {},
     "output_type": "execute_result"
    }
   ],
   "source": [
    "seed_ = g.seed()\n",
    "seed_"
   ]
  },
  {
   "cell_type": "code",
   "execution_count": 39,
   "id": "2cb296bb-bb01-48e7-ab66-9229a6c15fa8",
   "metadata": {},
   "outputs": [],
   "source": [
    "g.manual_seed(seed_);"
   ]
  },
  {
   "cell_type": "code",
   "execution_count": 40,
   "id": "88069819-cb4d-40ba-988a-87237408af2c",
   "metadata": {},
   "outputs": [
    {
     "data": {
      "text/plain": [
       "torch.Size([66, 66])"
      ]
     },
     "execution_count": 40,
     "metadata": {},
     "output_type": "execute_result"
    }
   ],
   "source": [
    "N.float().shape"
   ]
  },
  {
   "cell_type": "code",
   "execution_count": 41,
   "id": "bbe49d03-7613-4c2c-95ec-243d1bae7e55",
   "metadata": {},
   "outputs": [
    {
     "data": {
      "text/plain": [
       "torch.Size([66, 66])"
      ]
     },
     "execution_count": 41,
     "metadata": {},
     "output_type": "execute_result"
    }
   ],
   "source": [
    "P.float().shape"
   ]
  },
  {
   "cell_type": "code",
   "execution_count": 42,
   "id": "ccf25e29-8867-4d1f-875f-d21c4674b1d4",
   "metadata": {},
   "outputs": [
    {
     "name": "stdout",
     "output_type": "stream",
     "text": [
      "D petheerd; st ha bryowhapad t n,\n",
      "OLORD:\n",
      "uron amaseromod,'d, at; Burathes eecinks pees wigondora pin-\n",
      "EShesis s, e brod wanoffeele's hy as isthaked, t eale u dooorer thens st theemoteemared we s, yo har:\n",
      "KI Sourrbrnit!\n",
      "jud m w, ou f to ys mse nct ckinctteee phthe the I h y tint ldly beff cofull ced d ulisses pedalaloowo t dK:\n",
      "zolo nengo ho, m  lllle tour s\n",
      "Filealootshu Illllowioris che he meara pet or ng med ave nn.\n",
      "xqur mbray,\n",
      "YO:\n",
      "!\n",
      "Bu? ouet ware.\n",
      "frnoulalcerds st berd qur; hoomee wes luge?\n",
      "<c>3s\n"
     ]
    }
   ],
   "source": [
    "char_g = 500\n",
    "idx = 0\n",
    "text = ''\n",
    "for _ in range(char_g):\n",
    "    p = N[idx].float()\n",
    "    p = p / p.sum()\n",
    "    idx = torch.multinomial(p, num_samples=1, replacement=True, generator=g).item()\n",
    "    if itoch[idx] == '<d>':\n",
    "        break\n",
    "    text += itoch[idx]\n",
    "print(text)"
   ]
  },
  {
   "cell_type": "code",
   "execution_count": 43,
   "id": "97416329-bcd3-46ed-8628-d956e8516ee9",
   "metadata": {},
   "outputs": [
    {
     "name": "stdout",
     "output_type": "stream",
     "text": [
      "Loss of the model: 6.949477672576904\n"
     ]
    }
   ],
   "source": [
    "print(f'Loss of the model: {-P.log().mean()}')"
   ]
  },
  {
   "cell_type": "markdown",
   "id": "885ecb01-ea68-413d-9446-881f1ecaf386",
   "metadata": {},
   "source": [
    "### Conclusion\n",
    "The model works on just probablities and generates very bad text."
   ]
  },
  {
   "cell_type": "markdown",
   "id": "4871107b-5f9a-428a-98e7-6a861e3f84db",
   "metadata": {},
   "source": [
    "# Single Layer Neural Network Approach"
   ]
  },
  {
   "cell_type": "code",
   "execution_count": 45,
   "id": "7c922854-de0f-4b14-af6b-d5cb1223b901",
   "metadata": {},
   "outputs": [],
   "source": [
    "# Trying on first 2 examples\n",
    "\n",
    "xs = []\n",
    "ys = []\n",
    "\n",
    "for sample in X[:2]:\n",
    "    s_ = list(sample)\n",
    "    for ch1, ch2 in zip(s_, s_[1:]):\n",
    "        ix1 = chtoi[ch1]\n",
    "        ix2 = chtoi[ch2]\n",
    "\n",
    "        xs.append(ix1)\n",
    "        ys.append(ix2)\n",
    "\n",
    "xs = torch.tensor(xs)\n",
    "ys = torch.tensor(ys)"
   ]
  },
  {
   "cell_type": "code",
   "execution_count": 46,
   "id": "9c74a39e-3d91-416c-b4ee-d7611cb184fb",
   "metadata": {},
   "outputs": [
    {
     "name": "stdout",
     "output_type": "stream",
     "text": [
      "xs.shape=torch.Size([59])\n",
      "ys.shape=torch.Size([59])\n"
     ]
    }
   ],
   "source": [
    "print(f'{xs.shape=}')\n",
    "print(f'{ys.shape=}')"
   ]
  },
  {
   "cell_type": "code",
   "execution_count": 47,
   "id": "1e93dd01-1d62-4616-b738-5f35a9c152c6",
   "metadata": {},
   "outputs": [],
   "source": [
    "W = torch.randn((num_chars, num_chars), generator=g, requires_grad=True) "
   ]
  },
  {
   "cell_type": "code",
   "execution_count": 48,
   "id": "4b57505d-b870-4730-884f-272575728491",
   "metadata": {},
   "outputs": [],
   "source": [
    "Xenc = F.one_hot(xs, num_classes=num_chars).float()\n",
    "logits = Xenc @ W\n",
    "counts = logits.exp()\n",
    "probs = counts / counts.sum(1, keepdims=True)"
   ]
  },
  {
   "cell_type": "code",
   "execution_count": 49,
   "id": "6ce3453f-ab85-4245-8a10-f80310c667cb",
   "metadata": {},
   "outputs": [
    {
     "data": {
      "text/plain": [
       "torch.Size([59, 66])"
      ]
     },
     "execution_count": 49,
     "metadata": {},
     "output_type": "execute_result"
    }
   ],
   "source": [
    "probs.shape"
   ]
  },
  {
   "cell_type": "code",
   "execution_count": 50,
   "id": "d941b782-780b-4f1c-9039-d326abc18242",
   "metadata": {},
   "outputs": [
    {
     "name": "stdout",
     "output_type": "stream",
     "text": [
      "Loss of the network:  4.421545028686523\n"
     ]
    }
   ],
   "source": [
    "loss = -probs[torch.arange(xs.shape[0]), ys].log().mean()\n",
    "print('Loss of the network: ', loss.item())"
   ]
  },
  {
   "cell_type": "code",
   "execution_count": 51,
   "id": "c1548c76-3c0b-4533-b740-5a30bbe9b290",
   "metadata": {},
   "outputs": [],
   "source": [
    "W.grad = None\n",
    "loss.backward()"
   ]
  },
  {
   "cell_type": "code",
   "execution_count": 52,
   "id": "8315de8f-db20-4895-889e-59ac3e6c7c26",
   "metadata": {},
   "outputs": [],
   "source": [
    "W.data += -0.1 * W.grad"
   ]
  },
  {
   "cell_type": "code",
   "execution_count": 53,
   "id": "0bc41365-7081-420f-904d-9b07d1583a90",
   "metadata": {},
   "outputs": [
    {
     "name": "stdout",
     "output_type": "stream",
     "text": [
      "W.shape=torch.Size([66, 66])\n",
      "W.grad.shape=torch.Size([66, 66])\n"
     ]
    }
   ],
   "source": [
    "print(f'{W.shape=}')\n",
    "print(f'{W.grad.shape=}')"
   ]
  },
  {
   "cell_type": "code",
   "execution_count": 54,
   "id": "d2aaa489-842e-4f9a-baf0-334c24da2b64",
   "metadata": {},
   "outputs": [
    {
     "data": {
      "text/plain": [
       "tensor(4.4196, grad_fn=<NllLossBackward0>)"
      ]
     },
     "execution_count": 54,
     "metadata": {},
     "output_type": "execute_result"
    }
   ],
   "source": [
    "logits = Xenc @ W\n",
    "F.cross_entropy(logits, ys)"
   ]
  },
  {
   "cell_type": "code",
   "execution_count": 55,
   "id": "e924ca3a-8367-4967-b973-fac154f1cfc4",
   "metadata": {},
   "outputs": [
    {
     "data": {
      "text/plain": [
       "40000"
      ]
     },
     "execution_count": 55,
     "metadata": {},
     "output_type": "execute_result"
    }
   ],
   "source": [
    "len(X)"
   ]
  },
  {
   "cell_type": "code",
   "execution_count": 56,
   "id": "9789205a-d46f-438b-be7a-857ad09a1316",
   "metadata": {},
   "outputs": [
    {
     "name": "stdout",
     "output_type": "stream",
     "text": [
      "xs.shape=torch.Size([1075394])\n",
      "ys.shape=torch.Size([1075394])\n"
     ]
    }
   ],
   "source": [
    "# creating training set\n",
    "\n",
    "xs = []\n",
    "ys = []\n",
    "\n",
    "for sample in X:\n",
    "    s_ = list(sample)\n",
    "    for ch1, ch2 in zip(s_, s_[1:]):\n",
    "        ix1 = chtoi[ch1]\n",
    "        ix2 = chtoi[ch2]\n",
    "\n",
    "        xs.append(ix1)\n",
    "        ys.append(ix2)\n",
    "\n",
    "xs = torch.tensor(xs)\n",
    "ys = torch.tensor(ys)\n",
    "\n",
    "print(f'{xs.shape=}')\n",
    "print(f'{ys.shape=}')"
   ]
  },
  {
   "cell_type": "code",
   "execution_count": 57,
   "id": "4bcd89b2-1f49-4c77-a0b3-f06dc7135b06",
   "metadata": {},
   "outputs": [
    {
     "name": "stdout",
     "output_type": "stream",
     "text": [
      "Xenc.shape=torch.Size([1075394, 66])\n"
     ]
    }
   ],
   "source": [
    "# encoding X\n",
    "\n",
    "Xenc = F.one_hot(xs, num_classes=num_chars).float()\n",
    "print(f'{Xenc.shape=}')"
   ]
  },
  {
   "cell_type": "code",
   "execution_count": 58,
   "id": "4d3e45eb-d438-4ee6-be4b-2ee8c32500e2",
   "metadata": {},
   "outputs": [],
   "source": [
    "# learning rate -> hyperparameter optimization\n",
    "\n",
    "lre = torch.linspace(-3, 0, 1000)\n",
    "lrs = 10 ** lre"
   ]
  },
  {
   "cell_type": "code",
   "execution_count": 59,
   "id": "49e17387-cf57-4473-9c40-ce571bf89b57",
   "metadata": {},
   "outputs": [],
   "source": [
    "epochs = 100_000\n",
    "num_examples = xs.shape[0]\n",
    "W = torch.randn((num_chars, num_chars), generator=g) * 0.1\n",
    "W.requires_grad = True\n",
    "\n",
    "lossi = []"
   ]
  },
  {
   "cell_type": "code",
   "execution_count": 60,
   "id": "edf36602-ec9c-42f0-a588-7afa8f22435b",
   "metadata": {},
   "outputs": [
    {
     "name": "stdout",
     "output_type": "stream",
     "text": [
      "Loss: 4.210188388824463\n",
      "Loss: 2.876445770263672\n"
     ]
    }
   ],
   "source": [
    "# organizing the network\n",
    "\n",
    "for k in range(epochs):\n",
    "    ix = torch.randint(0, xs.shape[0], (32,)) # training on 32 examples\n",
    "    Xenc_ = Xenc[ix]\n",
    "    \n",
    "    logits = Xenc_ @ W\n",
    "    # counts = logits.exp()\n",
    "    # probs = counts / counts.sum(1, keepdims=True)\n",
    "    # loss = -probs[torch.arange(num_examples), ys].log().mean()\n",
    "    loss = F.cross_entropy(logits, ys[ix]) # this is a faster and better execution of the above 3 lines\n",
    "    if k == 0:\n",
    "        print(f'Loss: {loss.item()}')\n",
    "    W.grad = None\n",
    "    \n",
    "    loss.backward()\n",
    "\n",
    "    lr = 1 if k < epochs // 2 else 0.001\n",
    "    W.data += -lr * W.grad\n",
    "\n",
    "    lossi.append(loss.item())\n",
    "\n",
    "print(f'Loss: {loss.item()}')"
   ]
  },
  {
   "cell_type": "code",
   "execution_count": 61,
   "id": "d87ddd01-76c0-47dc-ae30-b32d44e8b7d8",
   "metadata": {},
   "outputs": [
    {
     "data": {
      "text/plain": [
       "tensor(3.3322)"
      ]
     },
     "execution_count": 61,
     "metadata": {},
     "output_type": "execute_result"
    }
   ],
   "source": [
    "-torch.tensor(1/28).log()"
   ]
  },
  {
   "cell_type": "code",
   "execution_count": 64,
   "id": "4db825a0-d239-4b2e-8db1-29ce3654d53b",
   "metadata": {},
   "outputs": [
    {
     "data": {
      "image/png": "[encoded data removed]",
      "text/plain": [
       "<Figure size 640x480 with 1 Axes>"
      ]
     },
     "metadata": {},
     "output_type": "display_data"
    }
   ],
   "source": [
    "plt.plot(lossi);"
   ]
  },
  {
   "cell_type": "code",
   "execution_count": 65,
   "id": "6b313366-fa15-48f9-80ef-667f812fcbd9",
   "metadata": {},
   "outputs": [],
   "source": [
    "# import matplotlib.pyplot as plt\n",
    "\n",
    "# plt.figure(figsize=(16, 5))\n",
    "# plt.xlabel('Learning Rate exponent')\n",
    "# plt.ylabel('Loss')\n",
    "# plt.title('Loss to LRE gragh')\n",
    "# plt.plot(lri, lossi)\n",
    "# plt.grid()\n",
    "# plt.show()"
   ]
  },
  {
   "cell_type": "code",
   "execution_count": 66,
   "id": "532bd0e5-57b1-4921-abff-bb73f868358c",
   "metadata": {},
   "outputs": [
    {
     "data": {
      "text/plain": [
       "torch.Size([32, 66])"
      ]
     },
     "execution_count": 66,
     "metadata": {},
     "output_type": "execute_result"
    }
   ],
   "source": [
    "logits.shape"
   ]
  },
  {
   "cell_type": "code",
   "execution_count": 68,
   "id": "595d187c-12b7-4580-b134-076a2cbebcfa",
   "metadata": {},
   "outputs": [
    {
     "name": "stdout",
     "output_type": "stream",
     "text": [
      "be be he tssot hin yot;\n",
      "Whe s wavecoullalewarys IS: my t aigngnk war hy,\n",
      "-d oug owhande RCOCINlkear:\n",
      "USt aspare f gndedinulloule mand lexNotor w. t mand t tr wa my, aine be'eamyot w ur nir fe y che.\n",
      "QUShe tuck, I athanouit'e matat hthe turlour, VFoworithisoraw.\n",
      "ccll.\n",
      "vel feshofiteate ay\n",
      "For his tho.\n",
      "witoriesththy t incor inseyo aterenY it sathence sse,\n",
      "Youtl in.\n",
      "ve wesed:\n",
      "ay aunOueay gubrsoffolll s:\n",
      "with as; se:\n",
      "V:\n",
      "NAPED:\n",
      "wigh d he Cil d ocouthenghellldod,\n",
      "cund CHARinmiet y t haim heng, imy, ath\n"
     ]
    }
   ],
   "source": [
    "# generating from the network trained\n",
    "\n",
    "idx = 2\n",
    "text = ''\n",
    "for _ in range(500):\n",
    "    xenc = F.one_hot(torch.tensor([idx]), num_classes=num_chars).float()\n",
    "    logits = xenc @ W\n",
    "    counts = logits.exp()\n",
    "    p = counts / counts.sum(1, keepdims = True)\n",
    "    idx = torch.multinomial(p, num_samples=1, replacement=True, generator=g).item()\n",
    "    if idx == 0:\n",
    "        break\n",
    "    text += itoch[idx]\n",
    "print(text)"
   ]
  },
  {
   "cell_type": "markdown",
   "id": "4aa3c8e0-1470-44f0-9a51-4cd2dc627bbc",
   "metadata": {},
   "source": [
    "### Conclusion:\n",
    "The model gets trained on on data throught forward pass and backpropagation, eventually learning something and decreasing the loss.\n",
    "\n",
    "We can see the model generated some meaningful words. But a lot of words that are generated are not meaningful. A lot of improvement has to be made."
   ]
  },
  {
   "cell_type": "markdown",
   "id": "734f80f2-5479-4b04-b708-7e528b7dcac3",
   "metadata": {},
   "source": [
    "# Multi-Layer Perceptron Approach"
   ]
  },
  {
   "cell_type": "code",
   "execution_count": 137,
   "id": "9aaa67a0-3f1a-48df-875f-f3dde4fe2009",
   "metadata": {},
   "outputs": [
    {
     "name": "stdout",
     "output_type": "stream",
     "text": [
      "<c><c><c> --> F\n",
      "<c><c>F --> i\n",
      "<c>Fi --> r\n",
      "Fir --> s\n",
      "irs --> t\n",
      "rst -->  \n",
      "st  --> C\n",
      "t C --> i\n",
      " Ci --> t\n",
      "Cit --> i\n",
      "iti --> z\n",
      "tiz --> e\n",
      "ize --> n\n",
      "zen --> :\n",
      "en: --> \n",
      "\n",
      "<c><c><c> --> B\n",
      "<c><c>B --> e\n",
      "<c>Be --> f\n",
      "Bef --> o\n",
      "efo --> r\n",
      "for --> e\n",
      "ore -->  \n",
      "re  --> w\n",
      "e w --> e\n",
      " we -->  \n",
      "we  --> p\n",
      "e p --> r\n",
      " pr --> o\n",
      "pro --> c\n",
      "roc --> e\n",
      "oce --> e\n",
      "cee --> d\n",
      "eed -->  \n",
      "ed  --> a\n",
      "d a --> n\n",
      " an --> y\n",
      "any -->  \n",
      "ny  --> f\n",
      "y f --> u\n",
      " fu --> r\n",
      "fur --> t\n",
      "urt --> h\n",
      "rth --> e\n",
      "the --> r\n",
      "her --> ,\n",
      "er, -->  \n",
      "r,  --> h\n",
      ", h --> e\n",
      " he --> a\n",
      "hea --> r\n",
      "ear -->  \n",
      "ar  --> m\n",
      "r m --> e\n",
      " me -->  \n",
      "me  --> s\n",
      "e s --> p\n",
      " sp --> e\n",
      "spe --> a\n",
      "pea --> k\n",
      "eak --> .\n",
      "ak. --> \n",
      "\n"
     ]
    }
   ],
   "source": [
    "# taking context for a length of 3, can as per requirement\n",
    "\n",
    "\n",
    "context_size = 3\n",
    "xs, ys = [], []\n",
    "\n",
    "for x in X[:2]:\n",
    "    context = [0] * context_size\n",
    "    \n",
    "    for i, ch in enumerate(list(x)):\n",
    "        ix = chtoi[ch]\n",
    "        xs.append(context)\n",
    "        ys.append(ix)\n",
    "        \n",
    "        print(''.join(itoch[j] for j in context), '-->', itoch[ix])\n",
    "\n",
    "        context = context[1:] + [ix] # cropping and appending context\n",
    "\n",
    "xs = torch.tensor(xs)\n",
    "ys = torch.tensor(ys)"
   ]
  },
  {
   "cell_type": "code",
   "execution_count": 70,
   "id": "baac75f2-7964-478f-a58b-ac6456c8a6fe",
   "metadata": {},
   "outputs": [
    {
     "name": "stdout",
     "output_type": "stream",
     "text": [
      "xs.shape=torch.Size([63, 3])\n",
      "ys.shape=torch.Size([63])\n"
     ]
    }
   ],
   "source": [
    "print(f'{xs.shape=}')\n",
    "print(f'{ys.shape=}')"
   ]
  },
  {
   "cell_type": "code",
   "execution_count": 71,
   "id": "a3361b78-d73b-4fd7-9380-afe23baa4ca2",
   "metadata": {},
   "outputs": [
    {
     "data": {
      "text/plain": [
       "tensor([[ 0,  0,  0],\n",
       "        [ 0,  0, 19],\n",
       "        [ 0, 19, 48],\n",
       "        [19, 48, 57],\n",
       "        [48, 57, 58],\n",
       "        [57, 58, 59],\n",
       "        [58, 59,  2],\n",
       "        [59,  2, 16],\n",
       "        [ 2, 16, 48],\n",
       "        [16, 48, 59]])"
      ]
     },
     "execution_count": 71,
     "metadata": {},
     "output_type": "execute_result"
    }
   ],
   "source": [
    "xs[:10]"
   ]
  },
  {
   "cell_type": "code",
   "execution_count": 72,
   "id": "88c4f21a-1ad6-4a58-97fc-87c7703cbea9",
   "metadata": {},
   "outputs": [
    {
     "data": {
      "text/plain": [
       "tensor([19, 48, 57, 58, 59,  2, 16, 48, 59, 48])"
      ]
     },
     "execution_count": 72,
     "metadata": {},
     "output_type": "execute_result"
    }
   ],
   "source": [
    "ys[:10]"
   ]
  },
  {
   "cell_type": "code",
   "execution_count": 74,
   "id": "5b85884a-2731-4a63-a017-c35ebb4c1b72",
   "metadata": {},
   "outputs": [],
   "source": [
    "# a 3 layer nn consisting of:  a embedding layer, 2 hidden layers, and output layer\n",
    "\n",
    "emb_dim = 2\n",
    "C = torch.randn((num_chars, emb_dim))\n",
    "W1 = torch.randn((context_size * emb_dim, 100)) \n",
    "b1 = torch.randn(100) \n",
    "W2 = torch.randn((W1.shape[1], num_chars)) \n",
    "b2 = torch.randn(num_chars)"
   ]
  },
  {
   "cell_type": "code",
   "execution_count": 75,
   "id": "141ec5b3-6018-4a35-9869-84d9e20b10c8",
   "metadata": {},
   "outputs": [],
   "source": [
    "# forward prop\n",
    "\n",
    "h_pre = C[xs].view(-1, context_size * emb_dim)\n",
    "h = torch.tanh(h_pre @ W1 + b1)\n",
    "logits = h @ W2 + b2"
   ]
  },
  {
   "cell_type": "code",
   "execution_count": 76,
   "id": "cc8347ce-71f8-460c-bc3e-61ecd4854d13",
   "metadata": {},
   "outputs": [
    {
     "data": {
      "text/plain": [
       "tensor(21.2951)"
      ]
     },
     "execution_count": 76,
     "metadata": {},
     "output_type": "execute_result"
    }
   ],
   "source": [
    "# loss\n",
    "\n",
    "loss = F.cross_entropy(logits, ys)\n",
    "loss"
   ]
  },
  {
   "cell_type": "code",
   "execution_count": 95,
   "id": "7b8f21e2-7ed0-4917-91d1-7ba74fb0e1a6",
   "metadata": {},
   "outputs": [],
   "source": [
    "chtoi = {ch:i+1 for i, ch in enumerate(chars)}\n",
    "chtoi['<c>'] = 0\n",
    "itoch={i:ch for ch, i in chtoi.items()}"
   ]
  },
  {
   "cell_type": "code",
   "execution_count": 138,
   "id": "1bcd3f02-44a9-4138-8114-f97cd9cac771",
   "metadata": {},
   "outputs": [
    {
     "name": "stdout",
     "output_type": "stream",
     "text": [
      "xs.shape=torch.Size([1115394, 3])\n",
      "ys.shape=torch.Size([1115394])\n"
     ]
    }
   ],
   "source": [
    "#loading full dataset\n",
    "\n",
    "context_size = 3\n",
    "xs, ys = [], []\n",
    "\n",
    "for x in X:\n",
    "    context = [0] * context_size\n",
    "    \n",
    "    for i, ch in enumerate(list(x)):\n",
    "        ix = chtoi[ch]\n",
    "        xs.append(context)\n",
    "        ys.append(ix)\n",
    "\n",
    "        context = context[1:] + [ix] # cropping and appending context\n",
    "\n",
    "xs = torch.tensor(xs)\n",
    "ys = torch.tensor(ys)\n",
    "\n",
    "print(f'{xs.shape=}')\n",
    "print(f'{ys.shape=}')"
   ]
  },
  {
   "cell_type": "code",
   "execution_count": 139,
   "id": "b562a264-8d3c-4d33-835a-2f2b22e5a7bb",
   "metadata": {},
   "outputs": [],
   "source": [
    "# train, dev, test split\n",
    "\n",
    "xs_train, xs_rest, ys_train, ys_rest = train_test_split(xs, ys, test_size = 0.2, random_state = 42)\n",
    "xs_dev, xs_test, ys_dev, ys_test = train_test_split(xs_rest, ys_rest, test_size = 0.5, random_state = 42)\n"
   ]
  },
  {
   "cell_type": "code",
   "execution_count": 140,
   "id": "8a516ca1-1ca9-4eaf-a403-3474fe540180",
   "metadata": {},
   "outputs": [
    {
     "name": "stdout",
     "output_type": "stream",
     "text": [
      "xs_train.shape=torch.Size([892315, 3])\n",
      "xs_dev.shape=torch.Size([111539, 3])\n",
      "xs_test.shape=torch.Size([111540, 3])\n",
      "---\n",
      "ys_train.shape=torch.Size([892315])\n",
      "ys_dev.shape=torch.Size([111539])\n",
      "ys_test.shape=torch.Size([111540])\n"
     ]
    }
   ],
   "source": [
    "print(f'{xs_train.shape=}')\n",
    "print(f'{xs_dev.shape=}')\n",
    "print(f'{xs_test.shape=}')\n",
    "print('---')\n",
    "print(f'{ys_train.shape=}')\n",
    "print(f'{ys_dev.shape=}')\n",
    "print(f'{ys_test.shape=}')"
   ]
  },
  {
   "cell_type": "code",
   "execution_count": 146,
   "id": "d9932d2d-ccf2-4b2d-be94-105005b1d0f4",
   "metadata": {},
   "outputs": [],
   "source": [
    "# organinizing the code\n",
    "\n",
    "emb_dim = 5\n",
    "n_hidden = 200\n",
    "\n",
    "C = torch.randn((num_chars, emb_dim))\n",
    "W1 = torch.randn((context_size * emb_dim, n_hidden)) * (5/3) / ((context_size * emb_dim) ** 0.5)\n",
    "b1 = torch.randn(n_hidden) * 0.01 \n",
    "W2 = torch.randn((n_hidden, num_chars)) * 0.1\n",
    "b2 = torch.randn(num_chars) * 0\n",
    "\n",
    "parameters = [C, W1, b1, W2, b2]\n",
    "for p in parameters:\n",
    "    p.requires_grad = True"
   ]
  },
  {
   "cell_type": "code",
   "execution_count": 147,
   "id": "6553ee03-6a2f-4cc6-a2c5-a9a3d558a454",
   "metadata": {},
   "outputs": [
    {
     "name": "stdout",
     "output_type": "stream",
     "text": [
      "Parameters: 16796\n"
     ]
    }
   ],
   "source": [
    "print(f'Parameters: {sum(p.nelement() for p in parameters)}')"
   ]
  },
  {
   "cell_type": "code",
   "execution_count": 148,
   "id": "d0fdead1-e67f-4764-a757-d3f03163afd5",
   "metadata": {},
   "outputs": [],
   "source": [
    "# learning rate -> hyperparameter optimization\n",
    "\n",
    "lre = torch.linspace(-4, 0, 1000) # set this to no. of epochs\n",
    "lrs = 10 ** lre\n",
    "lri = []\n",
    "lossi = []"
   ]
  },
  {
   "cell_type": "code",
   "execution_count": 159,
   "id": "5d60a503-1b36-4270-9a18-6d9f84e5a8bc",
   "metadata": {},
   "outputs": [
    {
     "name": "stdout",
     "output_type": "stream",
     "text": [
      "loss.item()=3.3515260219573975\n",
      "loss.item()=3.342540979385376\n"
     ]
    }
   ],
   "source": [
    "epochs = 200000\n",
    "\n",
    "for k in range(epochs):\n",
    "    # forward\n",
    "    ix = torch.randint(0, xs_train.shape[0], (32,))\n",
    "    emb_ = C[xs_train[ix]].view(-1, context_size * emb_dim)\n",
    "    h_pre = emb_ @ W1 + b1\n",
    "    h = torch.tanh(h_pre)\n",
    "    logits = h @ W2 + b2\n",
    "    loss = F.cross_entropy(logits, ys[ix])\n",
    "    # print(loss.item())\n",
    "    if k == 0:\n",
    "        print(f'{loss.item()=}')\n",
    "\n",
    "    #backward\n",
    "    for p in parameters:\n",
    "        p.grad = None\n",
    "    loss.backward()\n",
    "\n",
    "    # lr = lrs[k]\n",
    "    lr = 0.17 if k < epochs // 2 else 0.017\n",
    "    #update\n",
    "    for p in parameters:\n",
    "        p.data += -lr * p.grad\n",
    "\n",
    "    #stats\n",
    "    # lri.append(lre[k % 1000])\n",
    "    lossi.append(loss.item())\n",
    "print(f'{loss.item()=}')"
   ]
  },
  {
   "cell_type": "code",
   "execution_count": 160,
   "id": "ef467866-9389-4803-9014-5345ab99b15f",
   "metadata": {},
   "outputs": [
    {
     "data": {
      "image/png": "[encoded data removed]",
      "text/plain": [
       "<Figure size 2000x1000 with 1 Axes>"
      ]
     },
     "metadata": {},
     "output_type": "display_data"
    }
   ],
   "source": [
    "plt.figure(figsize=(20,10))\n",
    "plt.grid('micro')\n",
    "plt.plot(lossi);"
   ]
  },
  {
   "cell_type": "code",
   "execution_count": 127,
   "id": "acf34046-1fc5-4242-96b8-304fbc49164c",
   "metadata": {},
   "outputs": [
    {
     "data": {
      "image/png": "[encoded data removed]",
      "text/plain": [
       "<Figure size 640x480 with 1 Axes>"
      ]
     },
     "metadata": {},
     "output_type": "display_data"
    }
   ],
   "source": [
    "# plt.plot(list(lri), list(lossi));\n",
    "# to plot this, uncomment learning_rate code block along with the optimization marked code "
   ]
  },
  {
   "cell_type": "code",
   "execution_count": 164,
   "id": "f47b3d7b-90dc-4fb9-a49c-58edb571f11b",
   "metadata": {},
   "outputs": [
    {
     "name": "stdout",
     "output_type": "stream",
     "text": [
      "Loss:  3.312758207321167\n"
     ]
    }
   ],
   "source": [
    "#dev loss\n",
    "\n",
    "with torch.no_grad():\n",
    "    emb = C[xs_dev].view(-1, context_size * emb_dim)\n",
    "    h_pre = emb @ W1 + b1 \n",
    "    h = torch.tanh(h_pre)\n",
    "    logits = h @ W2 + b2\n",
    "    loss = F.cross_entropy(logits, ys_dev)\n",
    "    print('Loss: ',loss.item())"
   ]
  },
  {
   "cell_type": "code",
   "execution_count": 166,
   "id": "2131c7e0-e83f-495f-b8d7-abfd4389ec45",
   "metadata": {},
   "outputs": [
    {
     "data": {
      "image/png": "[encoded data removed]",
      "text/plain": [
       "<Figure size 800x800 with 1 Axes>"
      ]
     },
     "metadata": {},
     "output_type": "display_data"
    }
   ],
   "source": [
    "plt.figure(figsize=(8,8))\n",
    "plt.title('Character Embeddings')\n",
    "plt.scatter(C[:, 0].data, C[:, 1].data, s=200)\n",
    "for i in range(C.shape[0]):\n",
    "    plt.text(C[i, 0].item(), C[i, 1].item(), itoch[i], ha='center', va='center', color='white')\n",
    "plt.grid('micro');"
   ]
  },
  {
   "cell_type": "code",
   "execution_count": 170,
   "id": "a5bb098c-4eb3-4fa2-ba6a-0c475603fcf1",
   "metadata": {},
   "outputs": [
    {
     "name": "stdout",
     "output_type": "stream",
     "text": [
      "IET   So TbykpnA hon t,na etyrt sihyeWemvau omaewA,\n",
      "gsatByunua'.ny art  bhykfblwr  knnr y t :hmohFcas  mumuhasitfa: h,togAtie anouagat:tn;o O\n",
      " Tho A tpneaaclue.tesIee\n",
      "b\n",
      "hcgArrrotf  h dar hfu wd,YRcetnltdoroa Nr hnsheie 'ge k o:o s.,oug weaT tt  Iehe :nRlWl!nea hff:tf.r\n",
      "Sye nti ldogdpw\n",
      "tue atrsarnuntnnebrlTa tWfs:y \n",
      "I nonerDe urottnnI hrV e ,hs kHiaete  nt\n",
      "iiapadr,elst beevsloOhilntud cegt'i  Mr h<c>h.o,, wtd iatii fawe't;ae;hsn:yusrtsag dei  rn tTya cIs E\n",
      "r \n",
      "pfew\n",
      " ateoVe :h  ia\n",
      "g\n",
      "ts o soiue\n",
      "nSnh nehe,lo\n"
     ]
    }
   ],
   "source": [
    "# sampling from the model\n",
    "\n",
    "output = []\n",
    "word = 'IET'\n",
    "context = [chtoi[ch] for ch in word]\n",
    "\n",
    "for _ in range(500):\n",
    "    emb = C[torch.tensor([context])].view(1, -1)\n",
    "    h = torch.tanh(emb @ W1 + b1)\n",
    "    logits = h @ W2 + b2\n",
    "    probs = F.softmax(logits, dim=1)\n",
    "    ix = torch.multinomial(probs, num_samples=1, generator=g).item()\n",
    "    context = context[1:] + [ix]\n",
    "    output.append(ix)\n",
    "\n",
    "print(word, ' ',''.join(itoch[i] for i in output))"
   ]
  },
  {
   "cell_type": "markdown",
   "id": "731ab99c-a5d2-4e05-a995-8654709672b8",
   "metadata": {},
   "source": [
    "### Conclusion\n",
    "\n",
    "Not a good network. Much more improvements need to be done."
   ]
  },
  {
   "cell_type": "markdown",
   "id": "311cffec-b906-49bb-9d76-1bbb5c253343",
   "metadata": {},
   "source": []
  }
 ],
 "metadata": {
  "kernelspec": {
   "display_name": "Python 3 (ipykernel)",
   "language": "python",
   "name": "python3"
  },
  "language_info": {
   "codemirror_mode": {
    "name": "ipython",
    "version": 3
   },
   "file_extension": ".py",
   "mimetype": "text/x-python",
   "name": "python",
   "nbconvert_exporter": "python",
   "pygments_lexer": "ipython3",
   "version": "3.9.13"
  }
 },
 "nbformat": 4,
 "nbformat_minor": 5
}
