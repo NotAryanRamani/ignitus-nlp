{
 "cells": [
  {
   "cell_type": "markdown",
   "id": "d3d2d0cd",
   "metadata": {},
   "source": [
    "# Data Ingestion\n",
    "\n",
    "Dataset Used: [amazon reviews dataset](https://www.kaggle.com/datasets/bittlingmayer/amazonreviews)\n",
    "\n",
    "This notebook reads from various json files which contains data for various types of amazon products and merges the data into a single CSV file."
   ]
  },
  {
   "cell_type": "code",
   "execution_count": 1,
   "id": "af3eeffb",
   "metadata": {},
   "outputs": [],
   "source": [
    "import pandas as pd\n",
    "import numpy as np\n",
    "import warnings\n",
    "import os\n",
    "warnings.filterwarnings(\"ignore\")"
   ]
  },
  {
   "cell_type": "markdown",
   "id": "8fd78c72",
   "metadata": {},
   "source": [
    "###  Locating Data Folder"
   ]
  },
  {
   "cell_type": "code",
   "execution_count": 11,
   "id": "a8d5ef04",
   "metadata": {},
   "outputs": [
    {
     "name": "stdout",
     "output_type": "stream",
     "text": [
      "Data Folder Path: E:\\customer-sentiment\\artifacts\\data\n"
     ]
    }
   ],
   "source": [
    "cur_dir = os.getcwd()\n",
    "artifacts_folder = os.path.join(os.path.abspath(os.path.join(cur_dir, os.pardir)),'artifacts')\n",
    "data_folder = os.path.join(artifacts_folder, 'data')\n",
    "print(f'Data Folder Path: {data_folder}')"
   ]
  },
  {
   "cell_type": "markdown",
   "id": "df2eb016",
   "metadata": {},
   "source": [
    "### Opening Files"
   ]
  },
  {
   "cell_type": "code",
   "execution_count": 3,
   "id": "e148810a",
   "metadata": {},
   "outputs": [
    {
     "name": "stdout",
     "output_type": "stream",
     "text": [
      "Total Samples: 3600000\n"
     ]
    }
   ],
   "source": [
    "with open(f'{data_folder}/train.ft.txt', 'r', encoding='utf-8') as f:\n",
    "    lines = f.readlines()\n",
    "\n",
    "print(f'Total Samples: {len(lines)}')"
   ]
  },
  {
   "cell_type": "code",
   "execution_count": 4,
   "id": "9117fd16-7fc4-4812-85b4-c820876f5cab",
   "metadata": {},
   "outputs": [
    {
     "name": "stdout",
     "output_type": "stream",
     "text": [
      "Creating Data Set\n",
      "Converted  500000 lines\n",
      "Converted  1000000 lines\n",
      "Converted  1500000 lines\n",
      "Converted  2000000 lines\n",
      "Converted  2500000 lines\n",
      "Converted  3000000 lines\n",
      "Converted  3500000 lines\n"
     ]
    }
   ],
   "source": [
    "#Creating Dataset\n",
    "data = {\n",
    "    'target' : [],\n",
    "    'text' : []\n",
    "}\n",
    "print('Creating Data Set')\n",
    "count = 0\n",
    "for line in lines:\n",
    "    data['target'].append(line[:10])\n",
    "    data['text'].append(line[10:].strip())\n",
    "    count += 1\n",
    "    if count % 500_000 == 0:\n",
    "        print(f'Converted  {count} lines')"
   ]
  },
  {
   "cell_type": "markdown",
   "id": "3ae35a20",
   "metadata": {},
   "source": [
    "###  Printing Dataframes"
   ]
  },
  {
   "cell_type": "code",
   "execution_count": 5,
   "id": "4c607814",
   "metadata": {},
   "outputs": [
    {
     "data": {
      "text/html": [
       "<div>\n",
       "<style scoped>\n",
       "    .dataframe tbody tr th:only-of-type {\n",
       "        vertical-align: middle;\n",
       "    }\n",
       "\n",
       "    .dataframe tbody tr th {\n",
       "        vertical-align: top;\n",
       "    }\n",
       "\n",
       "    .dataframe thead th {\n",
       "        text-align: right;\n",
       "    }\n",
       "</style>\n",
       "<table border=\"1\" class=\"dataframe\">\n",
       "  <thead>\n",
       "    <tr style=\"text-align: right;\">\n",
       "      <th></th>\n",
       "      <th>target</th>\n",
       "      <th>text</th>\n",
       "    </tr>\n",
       "  </thead>\n",
       "  <tbody>\n",
       "    <tr>\n",
       "      <th>0</th>\n",
       "      <td>__label__2</td>\n",
       "      <td>Stuning even for the non-gamer: This sound tra...</td>\n",
       "    </tr>\n",
       "    <tr>\n",
       "      <th>1</th>\n",
       "      <td>__label__2</td>\n",
       "      <td>The best soundtrack ever to anything.: I'm rea...</td>\n",
       "    </tr>\n",
       "    <tr>\n",
       "      <th>2</th>\n",
       "      <td>__label__2</td>\n",
       "      <td>Amazing!: This soundtrack is my favorite music...</td>\n",
       "    </tr>\n",
       "    <tr>\n",
       "      <th>3</th>\n",
       "      <td>__label__2</td>\n",
       "      <td>Excellent Soundtrack: I truly like this soundt...</td>\n",
       "    </tr>\n",
       "    <tr>\n",
       "      <th>4</th>\n",
       "      <td>__label__2</td>\n",
       "      <td>Remember, Pull Your Jaw Off The Floor After He...</td>\n",
       "    </tr>\n",
       "  </tbody>\n",
       "</table>\n",
       "</div>"
      ],
      "text/plain": [
       "       target                                               text\n",
       "0  __label__2  Stuning even for the non-gamer: This sound tra...\n",
       "1  __label__2  The best soundtrack ever to anything.: I'm rea...\n",
       "2  __label__2  Amazing!: This soundtrack is my favorite music...\n",
       "3  __label__2  Excellent Soundtrack: I truly like this soundt...\n",
       "4  __label__2  Remember, Pull Your Jaw Off The Floor After He..."
      ]
     },
     "execution_count": 5,
     "metadata": {},
     "output_type": "execute_result"
    }
   ],
   "source": [
    "df = pd.DataFrame(data)\n",
    "df.head()"
   ]
  },
  {
   "cell_type": "markdown",
   "id": "ac2f273c",
   "metadata": {},
   "source": [
    "### Checking Null Values"
   ]
  },
  {
   "cell_type": "code",
   "execution_count": 6,
   "id": "290744d2",
   "metadata": {},
   "outputs": [
    {
     "data": {
      "text/plain": [
       "target    0\n",
       "text      0\n",
       "dtype: int64"
      ]
     },
     "execution_count": 6,
     "metadata": {},
     "output_type": "execute_result"
    }
   ],
   "source": [
    "df.isna().sum()"
   ]
  },
  {
   "cell_type": "markdown",
   "id": "fee6ee87",
   "metadata": {},
   "source": [
    "There are no null values in the dataset"
   ]
  },
  {
   "cell_type": "markdown",
   "id": "09c81dfa-6d61-420f-8d3e-156407c4dfa7",
   "metadata": {},
   "source": [
    "## Checking Duplicates"
   ]
  },
  {
   "cell_type": "code",
   "execution_count": 7,
   "id": "9d721d28-8f4d-4893-9069-666baee74ce7",
   "metadata": {},
   "outputs": [
    {
     "data": {
      "text/plain": [
       "0"
      ]
     },
     "execution_count": 7,
     "metadata": {},
     "output_type": "execute_result"
    }
   ],
   "source": [
    "df.duplicated().sum()"
   ]
  },
  {
   "cell_type": "markdown",
   "id": "8bb3be7e-1882-419e-a20c-ee612394d0d9",
   "metadata": {},
   "source": [
    "There are no duplicates in the dataset"
   ]
  },
  {
   "cell_type": "markdown",
   "id": "75602953-d72b-48ef-8775-645f244d1b0b",
   "metadata": {},
   "source": [
    "### Mapping Target Variable"
   ]
  },
  {
   "cell_type": "code",
   "execution_count": 8,
   "id": "d43c1c10-53f3-4f0b-8e5b-59c9136d90c5",
   "metadata": {},
   "outputs": [
    {
     "data": {
      "text/plain": [
       "array(['__label__2', '__label__1'], dtype=object)"
      ]
     },
     "execution_count": 8,
     "metadata": {},
     "output_type": "execute_result"
    }
   ],
   "source": [
    "df['target'].unique()"
   ]
  },
  {
   "cell_type": "code",
   "execution_count": 9,
   "id": "6a32c458-2ffe-4e2d-abbe-4d7e91bfde3a",
   "metadata": {},
   "outputs": [
    {
     "data": {
      "text/html": [
       "<div>\n",
       "<style scoped>\n",
       "    .dataframe tbody tr th:only-of-type {\n",
       "        vertical-align: middle;\n",
       "    }\n",
       "\n",
       "    .dataframe tbody tr th {\n",
       "        vertical-align: top;\n",
       "    }\n",
       "\n",
       "    .dataframe thead th {\n",
       "        text-align: right;\n",
       "    }\n",
       "</style>\n",
       "<table border=\"1\" class=\"dataframe\">\n",
       "  <thead>\n",
       "    <tr style=\"text-align: right;\">\n",
       "      <th></th>\n",
       "      <th>target</th>\n",
       "      <th>text</th>\n",
       "    </tr>\n",
       "  </thead>\n",
       "  <tbody>\n",
       "    <tr>\n",
       "      <th>0</th>\n",
       "      <td>1</td>\n",
       "      <td>Stuning even for the non-gamer: This sound tra...</td>\n",
       "    </tr>\n",
       "    <tr>\n",
       "      <th>1</th>\n",
       "      <td>1</td>\n",
       "      <td>The best soundtrack ever to anything.: I'm rea...</td>\n",
       "    </tr>\n",
       "    <tr>\n",
       "      <th>2</th>\n",
       "      <td>1</td>\n",
       "      <td>Amazing!: This soundtrack is my favorite music...</td>\n",
       "    </tr>\n",
       "    <tr>\n",
       "      <th>3</th>\n",
       "      <td>1</td>\n",
       "      <td>Excellent Soundtrack: I truly like this soundt...</td>\n",
       "    </tr>\n",
       "    <tr>\n",
       "      <th>4</th>\n",
       "      <td>1</td>\n",
       "      <td>Remember, Pull Your Jaw Off The Floor After He...</td>\n",
       "    </tr>\n",
       "  </tbody>\n",
       "</table>\n",
       "</div>"
      ],
      "text/plain": [
       "   target                                               text\n",
       "0       1  Stuning even for the non-gamer: This sound tra...\n",
       "1       1  The best soundtrack ever to anything.: I'm rea...\n",
       "2       1  Amazing!: This soundtrack is my favorite music...\n",
       "3       1  Excellent Soundtrack: I truly like this soundt...\n",
       "4       1  Remember, Pull Your Jaw Off The Floor After He..."
      ]
     },
     "execution_count": 9,
     "metadata": {},
     "output_type": "execute_result"
    }
   ],
   "source": [
    "# __label__2 = 1 (positive)\n",
    "# __label__1 = 0 (negative)\n",
    "\n",
    "target_map = {\n",
    "    '__label__2' : 1,\n",
    "    '__label__1' : 0,\n",
    "}\n",
    "\n",
    "df['target'] = df['target'].map(target_map).astype(np.int64)\n",
    "df.head()"
   ]
  },
  {
   "cell_type": "markdown",
   "id": "cc81bf8b-8b89-40e3-93bf-0c4f1cc7db43",
   "metadata": {},
   "source": [
    "## Sampling random 500,000 lines"
   ]
  },
  {
   "cell_type": "code",
   "execution_count": 12,
   "id": "12b048b8-9dc6-46b2-b4ff-f9761a005aa2",
   "metadata": {},
   "outputs": [],
   "source": [
    "df = df.sample(500_000).reset_index(drop=True)"
   ]
  },
  {
   "cell_type": "code",
   "execution_count": 13,
   "id": "98ce9abe-b034-4126-9550-044343adbf18",
   "metadata": {},
   "outputs": [
    {
     "data": {
      "text/plain": [
       "(500000, 2)"
      ]
     },
     "execution_count": 13,
     "metadata": {},
     "output_type": "execute_result"
    }
   ],
   "source": [
    "df.shape"
   ]
  },
  {
   "cell_type": "code",
   "execution_count": 15,
   "id": "8a89b658-1844-4c6a-b72d-c03960456070",
   "metadata": {},
   "outputs": [
    {
     "data": {
      "text/html": [
       "<div>\n",
       "<style scoped>\n",
       "    .dataframe tbody tr th:only-of-type {\n",
       "        vertical-align: middle;\n",
       "    }\n",
       "\n",
       "    .dataframe tbody tr th {\n",
       "        vertical-align: top;\n",
       "    }\n",
       "\n",
       "    .dataframe thead th {\n",
       "        text-align: right;\n",
       "    }\n",
       "</style>\n",
       "<table border=\"1\" class=\"dataframe\">\n",
       "  <thead>\n",
       "    <tr style=\"text-align: right;\">\n",
       "      <th></th>\n",
       "      <th>target</th>\n",
       "      <th>text</th>\n",
       "    </tr>\n",
       "  </thead>\n",
       "  <tbody>\n",
       "    <tr>\n",
       "      <th>0</th>\n",
       "      <td>0</td>\n",
       "      <td>Not That Great: Though I love Tito Puente, I w...</td>\n",
       "    </tr>\n",
       "    <tr>\n",
       "      <th>1</th>\n",
       "      <td>1</td>\n",
       "      <td>Loved it right up until the last 10 pages: Thi...</td>\n",
       "    </tr>\n",
       "    <tr>\n",
       "      <th>2</th>\n",
       "      <td>1</td>\n",
       "      <td>Great Guide for those who want to know: Great ...</td>\n",
       "    </tr>\n",
       "    <tr>\n",
       "      <th>3</th>\n",
       "      <td>0</td>\n",
       "      <td>The Worst Deal yet: This was the worst compute...</td>\n",
       "    </tr>\n",
       "    <tr>\n",
       "      <th>4</th>\n",
       "      <td>0</td>\n",
       "      <td>fun for kids but...: My kid wanted to buy mini...</td>\n",
       "    </tr>\n",
       "  </tbody>\n",
       "</table>\n",
       "</div>"
      ],
      "text/plain": [
       "   target                                               text\n",
       "0       0  Not That Great: Though I love Tito Puente, I w...\n",
       "1       1  Loved it right up until the last 10 pages: Thi...\n",
       "2       1  Great Guide for those who want to know: Great ...\n",
       "3       0  The Worst Deal yet: This was the worst compute...\n",
       "4       0  fun for kids but...: My kid wanted to buy mini..."
      ]
     },
     "execution_count": 15,
     "metadata": {},
     "output_type": "execute_result"
    }
   ],
   "source": [
    "df.head()"
   ]
  },
  {
   "cell_type": "markdown",
   "id": "b55675c5",
   "metadata": {},
   "source": [
    "###  Saving the dataset"
   ]
  },
  {
   "cell_type": "code",
   "execution_count": 14,
   "id": "76dcf3d6",
   "metadata": {},
   "outputs": [],
   "source": [
    "df.to_csv(data_folder+'/data.csv', index=False)"
   ]
  }
 ],
 "metadata": {
  "kernelspec": {
   "display_name": "Python 3 (ipykernel)",
   "language": "python",
   "name": "python3"
  },
  "language_info": {
   "codemirror_mode": {
    "name": "ipython",
    "version": 3
   },
   "file_extension": ".py",
   "mimetype": "text/x-python",
   "name": "python",
   "nbconvert_exporter": "python",
   "pygments_lexer": "ipython3",
   "version": "3.9.12"
  }
 },
 "nbformat": 4,
 "nbformat_minor": 5
}
